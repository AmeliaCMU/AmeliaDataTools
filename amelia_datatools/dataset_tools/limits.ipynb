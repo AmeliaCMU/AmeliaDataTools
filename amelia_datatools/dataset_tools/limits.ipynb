{
 "cells": [
  {
   "cell_type": "code",
   "execution_count": 1,
   "metadata": {},
   "outputs": [],
   "source": [
    "import json\n",
    "import os\n",
    "import pandas as pd\n",
    "from tqdm import tqdm\n",
    "\n",
    "from amelia_datatools.utils import common as C\n",
    "from amelia_datatools.utils import utils as U"
   ]
  },
  {
   "cell_type": "code",
   "execution_count": 2,
   "metadata": {},
   "outputs": [],
   "source": [
    "import math\n",
    "\n",
    "class RunningStats:\n",
    "    def __init__(self):\n",
    "        self.n = 0\n",
    "        self.old_m = 0\n",
    "        self.new_m = 0\n",
    "        self.old_s = 0\n",
    "        self.new_s = 0\n",
    "\n",
    "    def clear(self):\n",
    "        self.n = 0\n",
    "\n",
    "    def push(self, x):\n",
    "        self.n += 1\n",
    "\n",
    "        if self.n == 1:\n",
    "            self.old_m = self.new_m = x\n",
    "            self.old_s = 0\n",
    "        else:\n",
    "            self.new_m = self.old_m + (x - self.old_m) / self.n\n",
    "            self.new_s = self.old_s + (x - self.old_m) * (x - self.new_m)\n",
    "\n",
    "            self.old_m = self.new_m\n",
    "            self.old_s = self.new_s\n",
    "\n",
    "    def mean(self):\n",
    "        return self.new_m if self.n else 0.0\n",
    "\n",
    "    def variance(self):\n",
    "        return self.new_s / (self.n - 1) if self.n > 1 else 0.0\n",
    "\n",
    "    def std(self):\n",
    "        return math.sqrt(self.variance())"
   ]
  },
  {
   "cell_type": "code",
   "execution_count": null,
   "metadata": {},
   "outputs": [
    {
     "name": "stdout",
     "output_type": "stream",
     "text": [
      "Running: KMKE\n"
     ]
    },
    {
     "ename": "FileNotFoundError",
     "evalue": "[Errno 2] No such file or directory: '/Users/alonso.cano/Developer/CMU/Amelia/AmeliaDataTools/datasets/amelia/assets/kmke/limits.json'",
     "output_type": "error",
     "traceback": [
      "\u001b[0;31m---------------------------------------------------------------------------\u001b[0m",
      "\u001b[0;31mFileNotFoundError\u001b[0m                         Traceback (most recent call last)",
      "Cell \u001b[0;32mIn[3], line 12\u001b[0m\n\u001b[1;32m      9\u001b[0m assets_dir \u001b[38;5;241m=\u001b[39m os\u001b[38;5;241m.\u001b[39mpath\u001b[38;5;241m.\u001b[39mjoin(base_dir, \u001b[38;5;124m'\u001b[39m\u001b[38;5;124massets\u001b[39m\u001b[38;5;124m'\u001b[39m, \u001b[38;5;124mf\u001b[39m\u001b[38;5;124m'\u001b[39m\u001b[38;5;132;01m{\u001b[39;00mairport\u001b[38;5;132;01m}\u001b[39;00m\u001b[38;5;124m'\u001b[39m)\n\u001b[1;32m     11\u001b[0m limits_file \u001b[38;5;241m=\u001b[39m os\u001b[38;5;241m.\u001b[39mpath\u001b[38;5;241m.\u001b[39mjoin(assets_dir, \u001b[38;5;124m'\u001b[39m\u001b[38;5;124mlimits.json\u001b[39m\u001b[38;5;124m'\u001b[39m)\n\u001b[0;32m---> 12\u001b[0m \u001b[38;5;28;01mwith\u001b[39;00m \u001b[38;5;28;43mopen\u001b[39;49m\u001b[43m(\u001b[49m\u001b[43mlimits_file\u001b[49m\u001b[43m,\u001b[49m\u001b[43m \u001b[49m\u001b[38;5;124;43m'\u001b[39;49m\u001b[38;5;124;43mr\u001b[39;49m\u001b[38;5;124;43m'\u001b[39;49m\u001b[43m)\u001b[49m \u001b[38;5;28;01mas\u001b[39;00m f:\n\u001b[1;32m     13\u001b[0m     ref_data \u001b[38;5;241m=\u001b[39m json\u001b[38;5;241m.\u001b[39mload(f)\n\u001b[1;32m     15\u001b[0m \u001b[38;5;66;03m# print(f\"Reference Data:\\n{json.dumps(ref_data, indent=4)}\")\u001b[39;00m\n",
      "File \u001b[0;32m~/.virtualenvs/amelia/lib/python3.9/site-packages/IPython/core/interactiveshell.py:310\u001b[0m, in \u001b[0;36m_modified_open\u001b[0;34m(file, *args, **kwargs)\u001b[0m\n\u001b[1;32m    303\u001b[0m \u001b[38;5;28;01mif\u001b[39;00m file \u001b[38;5;129;01min\u001b[39;00m {\u001b[38;5;241m0\u001b[39m, \u001b[38;5;241m1\u001b[39m, \u001b[38;5;241m2\u001b[39m}:\n\u001b[1;32m    304\u001b[0m     \u001b[38;5;28;01mraise\u001b[39;00m \u001b[38;5;167;01mValueError\u001b[39;00m(\n\u001b[1;32m    305\u001b[0m         \u001b[38;5;124mf\u001b[39m\u001b[38;5;124m\"\u001b[39m\u001b[38;5;124mIPython won\u001b[39m\u001b[38;5;124m'\u001b[39m\u001b[38;5;124mt let you open fd=\u001b[39m\u001b[38;5;132;01m{\u001b[39;00mfile\u001b[38;5;132;01m}\u001b[39;00m\u001b[38;5;124m by default \u001b[39m\u001b[38;5;124m\"\u001b[39m\n\u001b[1;32m    306\u001b[0m         \u001b[38;5;124m\"\u001b[39m\u001b[38;5;124mas it is likely to crash IPython. If you know what you are doing, \u001b[39m\u001b[38;5;124m\"\u001b[39m\n\u001b[1;32m    307\u001b[0m         \u001b[38;5;124m\"\u001b[39m\u001b[38;5;124myou can use builtins\u001b[39m\u001b[38;5;124m'\u001b[39m\u001b[38;5;124m open.\u001b[39m\u001b[38;5;124m\"\u001b[39m\n\u001b[1;32m    308\u001b[0m     )\n\u001b[0;32m--> 310\u001b[0m \u001b[38;5;28;01mreturn\u001b[39;00m \u001b[43mio_open\u001b[49m\u001b[43m(\u001b[49m\u001b[43mfile\u001b[49m\u001b[43m,\u001b[49m\u001b[43m \u001b[49m\u001b[38;5;241;43m*\u001b[39;49m\u001b[43margs\u001b[49m\u001b[43m,\u001b[49m\u001b[43m \u001b[49m\u001b[38;5;241;43m*\u001b[39;49m\u001b[38;5;241;43m*\u001b[39;49m\u001b[43mkwargs\u001b[49m\u001b[43m)\u001b[49m\n",
      "\u001b[0;31mFileNotFoundError\u001b[0m: [Errno 2] No such file or directory: '/Users/alonso.cano/Developer/CMU/Amelia/AmeliaDataTools/datasets/amelia/assets/kmke/limits.json'"
     ]
    }
   ],
   "source": [
    "black_list = ['Frame', 'ID', 'Type', 'Interp']\n",
    "base_dir = C.DATA_DIR\n",
    "traj_version = C.VERSION\n",
    "\n",
    "for airport in [\"katl\", \"kbos\", \"kdca\", \"kewr\", \"kjfk\", \"klax\", \"kmdw\", \"kmsy\", \"ksea\", \"ksfo\", \"panc\"]:\n",
    "    print(f\"Running: {airport.upper()}\")\n",
    "    traj_dir = os.path.join(base_dir, f'traj_data_{traj_version}/raw_trajectories', f'{airport}')\n",
    "    assets_dir = os.path.join(base_dir, 'assets', f'{airport}')\n",
    "\n",
    "    limits_file = os.path.join(assets_dir, 'limits.json')\n",
    "    with open(limits_file, 'r') as f:\n",
    "        ref_data = json.load(f)\n",
    "\n",
    "    # print(f\"Reference Data:\\n{json.dumps(ref_data, indent=4)}\")\n",
    "\n",
    "    traj_files = [os.path.join(traj_dir, f) for f in os.listdir(traj_dir)]\n",
    "    print(f\"\\tFound {len(traj_files)} trajectory files in {traj_dir}\")\n",
    "\n",
    "    # Create limits dictionary\n",
    "    data = pd.read_csv(traj_files[0])\n",
    "    limits = {}\n",
    "    incstats = {}\n",
    "    for k, v in data.items():\n",
    "        if k in black_list:\n",
    "            continue\n",
    "        limits[k] = {\n",
    "            \"min\": float('inf'), \"max\": -float('inf'), \"mean\": 0.0, \"std\": 0.0\n",
    "        }\n",
    "        incstats[k] = RunningStats()\n",
    "\n",
    "    for f in tqdm(traj_files):\n",
    "        data = pd.read_csv(traj_files[0])\n",
    "        for k in limits.keys():\n",
    "            arr = data[k].to_numpy()\n",
    "            limits[k][\"min\"] = min(limits[k][\"min\"], arr.min())\n",
    "            limits[k][\"max\"] = max(limits[k][\"max\"], arr.max())\n",
    "\n",
    "            for a in arr:\n",
    "                incstats[k].push(a)\n",
    "\n",
    "        for k in limits.keys():\n",
    "            limits[k][\"mean\"] = incstats[k].mean()\n",
    "            limits[k][\"std\"] = incstats[k].std()\n",
    "\n",
    "    ref_data['limits'] = limits\n",
    "    with open(limits_file, 'w') as f:\n",
    "        json.dump(ref_data, f, indent=2)\n",
    "    print(f\"\\tAdding limits to reference file in: {limits_file}\")"
   ]
  }
 ],
 "metadata": {
  "kernelspec": {
   "display_name": "amelia",
   "language": "python",
   "name": "python3"
  },
  "language_info": {
   "codemirror_mode": {
    "name": "ipython",
    "version": 3
   },
   "file_extension": ".py",
   "mimetype": "text/x-python",
   "name": "python",
   "nbconvert_exporter": "python",
   "pygments_lexer": "ipython3",
   "version": "3.9.20"
  }
 },
 "nbformat": 4,
 "nbformat_minor": 2
}
