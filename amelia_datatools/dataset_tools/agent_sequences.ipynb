{
 "cells": [
  {
   "cell_type": "code",
   "execution_count": null,
   "metadata": {},
   "outputs": [],
   "source": [
    "import json\n",
    "import matplotlib.pyplot as plt\n",
    "import numpy as np\n",
    "import os\n",
    "import pandas as pd\n",
    "import pickle\n",
    "\n",
    "from tqdm import tqdm\n",
    "\n",
    "out_dir = \"../../output/sequence_lengths\"\n",
    "os.makedirs(out_dir, exist_ok=True)\n",
    "\n",
    "name = {'total': 'Total', '0': 'Aircraft', '1': 'Vehicle', '2': 'Unknown'}\n",
    "colors = {'ksea': 'blue', 'kewr': 'red', 'kbos': 'green', 'kmdw': 'orange'}\n"
   ]
  },
  {
   "cell_type": "code",
   "execution_count": null,
   "metadata": {},
   "outputs": [],
   "source": [
    "airport = \"kbos\"\n",
    "base_dir = '../../datasets/amelia'\n",
    "traj_version = 'a10v08'\n",
    "\n",
    "\n",
    "traj_dir = os.path.join(base_dir, f'traj_data_{traj_version}', 'raw_trajectories', f'{airport}')\n",
    "\n",
    "traj_files = [os.path.join(traj_dir, f) for f in os.listdir(traj_dir)]\n",
    "print(traj_files[0])\n",
    "\n",
    "data = pd.read_csv(traj_files[0])\n",
    "data.head()"
   ]
  },
  {
   "cell_type": "code",
   "execution_count": null,
   "metadata": {},
   "outputs": [],
   "source": [
    "agent_seqlens = {\n",
    "    'total': [],\n",
    "}\n",
    "total_count = 0\n",
    "for f in tqdm(traj_files):\n",
    "    data = pd.read_csv(f)\n",
    "\n",
    "    unique_IDs = np.unique(data.ID)\n",
    "    for ID in unique_IDs:\n",
    "        seq = data[data.ID == ID]\n",
    "\n",
    "        atype = seq.Type.astype(int)\n",
    "        atype = atype[np.diff(atype, prepend=np.nan).astype(bool)].astype(str).tolist()\n",
    "\n",
    "        key = ''.join(atype)\n",
    "        if agent_seqlens.get(key) is None:\n",
    "            agent_seqlens[key] = []\n",
    "\n",
    "        T = seq.shape[0]\n",
    "        agent_seqlens[key].append(T)\n",
    "        agent_seqlens['total'].append(T)\n"
   ]
  },
  {
   "cell_type": "code",
   "execution_count": null,
   "metadata": {},
   "outputs": [],
   "source": [
    "agent_seqlens_stats = {}\n",
    "for k, v in agent_seqlens.items():\n",
    "    v = np.asarray(v)\n",
    "    agent_seqlens_stats[k] = {\n",
    "        \"min\": round(v.min().astype(float), 5),\n",
    "        \"max\": round(v.max().astype(float), 5),\n",
    "        \"mean\": round(v.mean().astype(float),5),\n",
    "        \"std\": round(v.std().astype(float), 5),\n",
    "    }\n",
    "\n",
    "    agent_seqlens[k] = v\n",
    "\n",
    "agent_seqlens_stats"
   ]
  },
  {
   "cell_type": "code",
   "execution_count": null,
   "metadata": {},
   "outputs": [],
   "source": [
    "with open(f'{out_dir}/{airport}_stats.json', 'w') as f:\n",
    "    json.dump(agent_seqlens_stats, f, indent=2)\n",
    "\n",
    "with open(f'{out_dir}/{airport}.pkl', 'wb') as f:\n",
    "    pickle.dump(agent_seqlens, f, protocol=pickle.HIGHEST_PROTOCOL)"
   ]
  },
  {
   "cell_type": "code",
   "execution_count": null,
   "metadata": {},
   "outputs": [],
   "source": [
    "for key, value in name.items():\n",
    "    arr = agent_seqlens[key]\n",
    "\n",
    "    plt.hist(arr, bins = (arr.max() // 10), color=colors[airport])\n",
    "    plt.title(f\"{airport}: {value}\")\n",
    "    plt.xlabel(\"Sequence Length\")\n",
    "    plt.ylabel(\"Count\")\n",
    "    plt.savefig(f\"{out_dir}/{airport}_{key}.png\", dpi=600)\n",
    "    plt.close()"
   ]
  },
  {
   "cell_type": "code",
   "execution_count": null,
   "metadata": {},
   "outputs": [],
   "source": [
    "for key, value in name.items():\n",
    "    arr = agent_seqlens[key]\n",
    "    q_lower = np.quantile(arr, 0.05)\n",
    "    q_upper = np.quantile(arr, 0.95)\n",
    "\n",
    "    arr = arr[(arr >= q_lower) & (arr <= q_upper)]\n",
    "\n",
    "    plt.hist(arr, bins = (arr.max() // 10), color=colors[airport])\n",
    "    plt.title(f\"{airport}: {value}\")\n",
    "    plt.xlabel(\"Sequence Length\")\n",
    "    plt.ylabel(\"Count\")\n",
    "    plt.savefig(f\"{out_dir}/{airport}_{key}_iqr.png\", dpi=600)\n",
    "    plt.close()"
   ]
  }
 ],
 "metadata": {
  "kernelspec": {
   "display_name": "boeing-tf",
   "language": "python",
   "name": "python3"
  },
  "language_info": {
   "codemirror_mode": {
    "name": "ipython",
    "version": 3
   },
   "file_extension": ".py",
   "mimetype": "text/x-python",
   "name": "python",
   "nbconvert_exporter": "python",
   "pygments_lexer": "ipython3",
   "version": "3.9.19"
  }
 },
 "nbformat": 4,
 "nbformat_minor": 2
}
