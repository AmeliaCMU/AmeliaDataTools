{
 "cells": [
  {
   "cell_type": "code",
   "execution_count": 3,
   "metadata": {},
   "outputs": [],
   "source": [
    "import os\n",
    "from geographiclib.geodesic import Geodesic\n",
    "import json\n",
    "import cv2\n",
    "import pandas as pd\n",
    "from tqdm import tqdm\n",
    "import matplotlib.pyplot as plt\n",
    "import numpy as np\n",
    "\n",
    "AIRPORTS = {\n",
    "    \"kmdw\": \"#0072bb\",\n",
    "    \"kewr\": \"#519872\",\n",
    "    \"ksea\": \"#682D63\",\n",
    "    \"kbos\": \"#ca3c25\"\n",
    "}\n",
    "\n",
    "class dotdict(dict):\n",
    "    \"\"\"dot.notation access to dictionary attributes\"\"\"\n",
    "    __getattr__ = dict.get\n",
    "    __setattr__ = dict.__setitem__\n",
    "    __delattr__ = dict.__delitem__"
   ]
  },
  {
   "cell_type": "code",
   "execution_count": 15,
   "metadata": {},
   "outputs": [],
   "source": [
    "class TrajectoryProcessor():\n",
    "    def __init__(self,  airport: str, ipath: str, opath: str, to_process: float, dpi: int ):\n",
    "        self.BASE_DIR = ipath\n",
    "        self.OUT_DIR =  opath\n",
    "        self.AIRPORT = airport\n",
    "        self.to_process = to_process\n",
    "        self.color = AIRPORTS[self.AIRPORT]\n",
    "        self.dpi = dpi\n",
    "        \n",
    "        MAP_DIR = f'{self.BASE_DIR}/maps/{self.AIRPORT}'\n",
    "        LIMITS_FILE = os.path.join(MAP_DIR, 'limits.json')\n",
    "        \n",
    "        map_filepath = os.path.join(MAP_DIR,'bkg_map.png')\n",
    "        semantic_map = cv2.imread(map_filepath)\n",
    "        semantic_map = cv2.cvtColor(semantic_map, cv2.COLOR_BGR2RGB)\n",
    "        self.semantic_map = cv2.resize(semantic_map, (semantic_map.shape[0]//2, semantic_map.shape[1]//2))\n",
    "\n",
    "        with open(LIMITS_FILE, 'r') as fp:\n",
    "                    reference_data = dotdict(json.load(fp))\n",
    "        self.ll_limits = (reference_data.north, reference_data.east, reference_data.south, reference_data.west)\n",
    "        self.reference_point = (reference_data.ref_lat,reference_data.ref_lon, reference_data.range_scale)\n",
    "        \n",
    "        self.TRAJECTORIES_DIR = os.path.join(self.BASE_DIR, 'raw_trajectories', airport)\n",
    "        print('---- Analyzing data in ', self.TRAJECTORIES_DIR, '----')\n",
    "        self.TRAJECTORY_FILES = [os.path.join(self.TRAJECTORIES_DIR, f) for f in os.listdir(self.TRAJECTORIES_DIR)]\n",
    "        os.makedirs(self.OUT_DIR, exist_ok=True)\n",
    "        \n",
    "    def plot_trajectories(self):\n",
    "        north, east, south, west = self.ll_limits\n",
    "        print(f\"Plotting {self.to_process*100} % of data\")\n",
    "        fig, map_plot = plt.subplots(1,figsize=(30,30))\n",
    "        map_plot.imshow(self.semantic_map, zorder=0, extent=[west, east, south, north], alpha=1.0)\n",
    "        #Plot all XY\n",
    "        for i in tqdm(range(0, int(len(self.TRAJECTORY_FILES)*self.to_process))):\n",
    "            test_file = self.TRAJECTORY_FILES[i]\n",
    "            data = pd.read_csv(test_file)\n",
    "            data.dropna(subset = ['Lat', 'Lon'])\n",
    "            data = data[:][data['Type'] == 0]\n",
    "            lon, lat = np.array(data.Lon.values), np.array(data.Lat.values)\n",
    "            map_plot.scatter(lon, lat, c = self.color, s= 0.3 , alpha= 0.15)\n",
    "            map_plot.tick_params(color='gray', labelcolor='gray')\n",
    "            for spine in map_plot.spines.values():\n",
    "                spine.set_edgecolor('white')\n",
    "        plt.tight_layout()\n",
    "        plt.xticks([])\n",
    "        plt.yticks([])\n",
    "        print('Saving...')\n",
    "        plt.savefig(f'{self.OUT_DIR}/{self.AIRPORT}.png', dpi=self.dpi, bbox_inches='tight')\n",
    "        plt.close()\n",
    "        # plt.show(block = False)\n",
    "        \n",
    "    def heat_map(self):\n",
    "        # # fig, map_plot = plt.subplots(1,figsize=(30,30))\n",
    "        # map_plot.imshow(semantic_map, zorder=0, extent=[west, east, south, north], alpha=1.0)\n",
    "        # Plot all XY\n",
    "        print(f\"Plotting {self.to_process*100} % of data\")\n",
    "        Lon, Lat = [], []\n",
    "        for i in tqdm(range(0, int(len(self.TRAJECTORY_FILES )*self.to_process))):\n",
    "            test_file = self.TRAJECTORY_FILES [i]\n",
    "            data = pd.read_csv(test_file)\n",
    "            data.dropna(subset = ['Lat', 'Lon'])\n",
    "            data = data[:][data['Type'] == 0]\n",
    "            lon, lat = np.array(data.Lon.values), np.array(data.Lat.values)\n",
    "            Lon.append(lon)\n",
    "            Lat.append(lat)\n",
    "        Lon = np.concatenate(Lon)\n",
    "        Lat = np.concatenate(Lat)\n",
    "        \n",
    "        freq, xedges, yedges = np.histogram2d(x = lon, y = lat, bins = 10000, density= False)\n",
    "        freq = np.clip(freq, a_min= 0,a_max= 5)\n",
    "        freq = freq.T\n",
    "        x,y = np.meshgrid(xedges,yedges)\n",
    "        plt.pcolormesh(x, y, freq)\n",
    "        plt.axis('equal')\n",
    "        plt.savefig(f'all_trajectories.png', dpi=self.dpi)"
   ]
  },
  {
   "cell_type": "code",
   "execution_count": 21,
   "metadata": {},
   "outputs": [
    {
     "name": "stdout",
     "output_type": "stream",
     "text": [
      "---- Analyzing data in  ../../datasets/swim/raw_trajectories/kewr ----\n",
      "Plotting 50.0 % of data\n"
     ]
    },
    {
     "name": "stderr",
     "output_type": "stream",
     "text": [
      "100%|██████████| 698/698 [00:43<00:00, 16.09it/s]\n"
     ]
    },
    {
     "name": "stdout",
     "output_type": "stream",
     "text": [
      "Saving...\n"
     ]
    }
   ],
   "source": [
    "\n",
    "processor = TrajectoryProcessor(\n",
    "    airport='kewr', \n",
    "    ipath='../../datasets/swim', \n",
    "    opath='./out/maps', \n",
    "    to_process=0.5,\n",
    "    dpi=100\n",
    ")\n",
    "processor.plot_trajectories()"
   ]
  }
 ],
 "metadata": {
  "kernelspec": {
   "display_name": "boeing-tf",
   "language": "python",
   "name": "python3"
  },
  "language_info": {
   "codemirror_mode": {
    "name": "ipython",
    "version": 3
   },
   "file_extension": ".py",
   "mimetype": "text/x-python",
   "name": "python",
   "nbconvert_exporter": "python",
   "pygments_lexer": "ipython3",
   "version": "3.9.16"
  }
 },
 "nbformat": 4,
 "nbformat_minor": 2
}
