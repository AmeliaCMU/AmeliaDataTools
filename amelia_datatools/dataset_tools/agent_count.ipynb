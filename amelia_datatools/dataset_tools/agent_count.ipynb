{
 "cells": [
  {
   "cell_type": "code",
   "execution_count": null,
   "metadata": {},
   "outputs": [],
   "source": [
    "import json\n",
    "import matplotlib.pyplot as plt\n",
    "import numpy as np\n",
    "import os\n",
    "import pandas as pd\n",
    "import pickle\n",
    "from tqdm import tqdm\n",
    "\n",
    "from amelia_datatools.utils.common import OUTPUT_DIR, DATA_DIR, VERSION\n",
    "\n",
    "out_dir = f\"{OUTPUT_DIR}/count\"\n",
    "os.makedirs(out_dir, exist_ok=True)\n"
   ]
  },
  {
   "cell_type": "code",
   "execution_count": null,
   "metadata": {},
   "outputs": [],
   "source": [
    "airport = \"kbos\"\n",
    "base_dir = DATA_DIR\n",
    "traj_version = VERSION\n",
    "\n",
    "traj_dir = os.path.join(base_dir, f'traj_data_{traj_version}', 'raw_trajectories', f'{airport}')\n",
    "\n",
    "traj_files = [os.path.join(traj_dir, f) for f in os.listdir(traj_dir)]\n",
    "print(traj_files[0])\n",
    "\n",
    "data = pd.read_csv(traj_files[0])\n",
    "data.head()"
   ]
  },
  {
   "cell_type": "code",
   "execution_count": null,
   "metadata": {},
   "outputs": [],
   "source": [
    "agent_counts = {\n",
    "    'total': [], '0': [], '1': [], '2': []\n",
    "}\n",
    "total_count = 0\n",
    "for f in tqdm(traj_files):\n",
    "    data = pd.read_csv(f)\n",
    "\n",
    "    unique_frames = np.unique(data.Frame)\n",
    "    for frame in unique_frames:\n",
    "        agents = data[data.Frame == frame]\n",
    "\n",
    "        agent_counts['total'].append(agents.shape[0])\n",
    "        agent_counts['0'].append(np.where(agents.Type == 0.0)[0].shape[0])\n",
    "        agent_counts['1'].append(np.where(agents.Type == 1.0)[0].shape[0])\n",
    "        agent_counts['2'].append(np.where(agents.Type == 2.0)[0].shape[0])\n"
   ]
  },
  {
   "cell_type": "code",
   "execution_count": null,
   "metadata": {},
   "outputs": [],
   "source": [
    "agent_count_stats = {}\n",
    "for k, v in agent_counts.items():\n",
    "    v = np.asarray(v)\n",
    "    agent_count_stats[k] = {\n",
    "        \"min\": round(v.min().astype(float), 5),\n",
    "        \"max\": round(v.max().astype(float), 5),\n",
    "        \"mean\": round(v.mean().astype(float), 5),\n",
    "        \"std\": round(v.std().astype(float), 5)\n",
    "    }\n",
    "\n",
    "    agent_counts[k] = v\n",
    "\n",
    "agent_count_stats"
   ]
  },
  {
   "cell_type": "code",
   "execution_count": null,
   "metadata": {},
   "outputs": [],
   "source": [
    "with open(f'{out_dir}/{airport}_stats.json', 'w') as f:\n",
    "    json.dump(agent_count_stats, f, indent=2)\n",
    "\n",
    "with open(f'{out_dir}/{airport}.pkl', 'wb') as handle:\n",
    "    pickle.dump(agent_counts, handle, protocol=pickle.HIGHEST_PROTOCOL)"
   ]
  },
  {
   "cell_type": "code",
   "execution_count": null,
   "metadata": {},
   "outputs": [],
   "source": [
    "name = {'total': 'Total', '0': 'Aircraft', '1': 'Vehicle', '2': 'Unknown'}\n",
    "colors = {'ksea': 'blue', 'kewr': 'red', 'kbos': 'green', 'kmdw': 'orange'}\n",
    "for key, value in name.items():\n",
    "    arr = agent_counts[key]\n",
    "\n",
    "    plt.hist(arr, bins = int(arr.max()), color=colors[airport])\n",
    "    plt.title(f\"{value}\")\n",
    "    plt.xlabel(\"Number of Agents per Timestep\")\n",
    "    plt.ylabel(\"Count\")\n",
    "    plt.savefig(f\"{out_dir}/{airport}_{key}.png\", dpi=600)\n",
    "    plt.close()"
   ]
  },
  {
   "cell_type": "code",
   "execution_count": null,
   "metadata": {},
   "outputs": [],
   "source": [
    "for key, value in name.items():\n",
    "    arr = agent_counts[key]\n",
    "    q_lower = np.quantile(arr, 0.05)\n",
    "    q_upper = np.quantile(arr, 0.95)\n",
    "\n",
    "    arr = arr[(arr >= q_lower) & (arr <= q_upper)]\n",
    "\n",
    "    plt.hist(arr, bins = int(arr.max()), color=colors[airport])\n",
    "    plt.title(f\"{value}\")\n",
    "    plt.xlabel(\"Number of Agents per Timestep\")\n",
    "    plt.ylabel(\"Count\")\n",
    "    plt.savefig(f\"{out_dir}/{airport}_{key}_iqr.png\", dpi=600)\n",
    "    plt.close()"
   ]
  }
 ],
 "metadata": {
  "kernelspec": {
   "display_name": "boeing-tf",
   "language": "python",
   "name": "python3"
  },
  "language_info": {
   "codemirror_mode": {
    "name": "ipython",
    "version": 3
   },
   "file_extension": ".py",
   "mimetype": "text/x-python",
   "name": "python",
   "nbconvert_exporter": "python",
   "pygments_lexer": "ipython3",
   "version": "3.9.19"
  }
 },
 "nbformat": 4,
 "nbformat_minor": 2
}
