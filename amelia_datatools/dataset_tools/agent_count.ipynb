{
 "cells": [
  {
   "cell_type": "code",
   "execution_count": 9,
   "metadata": {},
   "outputs": [],
   "source": [
    "import json\n",
    "import matplotlib.pyplot as plt\n",
    "import numpy as np\n",
    "import os\n",
    "import pandas as pd\n",
    "import pickle\n",
    "from tqdm import tqdm\n",
    "\n",
    "import amelia_datatools.utils.common as C\n",
    "\n",
    "out_dir = f\"{C.OUTPUT_DIR}/count\"\n",
    "os.makedirs(out_dir, exist_ok=True)\n"
   ]
  },
  {
   "cell_type": "code",
   "execution_count": 10,
   "metadata": {},
   "outputs": [
    {
     "name": "stdout",
     "output_type": "stream",
     "text": [
      "/Users/alonso.cano/Developer/CMU/Amelia/AmeliaDataTools/datasets/amelia/traj_data_a10v08/raw_trajectories/kdca/KDCA_253_1681228800.csv\n"
     ]
    },
    {
     "data": {
      "text/html": [
       "<div>\n",
       "<style scoped>\n",
       "    .dataframe tbody tr th:only-of-type {\n",
       "        vertical-align: middle;\n",
       "    }\n",
       "\n",
       "    .dataframe tbody tr th {\n",
       "        vertical-align: top;\n",
       "    }\n",
       "\n",
       "    .dataframe thead th {\n",
       "        text-align: right;\n",
       "    }\n",
       "</style>\n",
       "<table border=\"1\" class=\"dataframe\">\n",
       "  <thead>\n",
       "    <tr style=\"text-align: right;\">\n",
       "      <th></th>\n",
       "      <th>Frame</th>\n",
       "      <th>ID</th>\n",
       "      <th>Altitude</th>\n",
       "      <th>Speed</th>\n",
       "      <th>Heading</th>\n",
       "      <th>Lat</th>\n",
       "      <th>Lon</th>\n",
       "      <th>Range</th>\n",
       "      <th>Bearing</th>\n",
       "      <th>Type</th>\n",
       "      <th>Interp</th>\n",
       "      <th>x</th>\n",
       "      <th>y</th>\n",
       "    </tr>\n",
       "  </thead>\n",
       "  <tbody>\n",
       "    <tr>\n",
       "      <th>0</th>\n",
       "      <td>0</td>\n",
       "      <td>971520</td>\n",
       "      <td>12.5</td>\n",
       "      <td>11.533333</td>\n",
       "      <td>356.102051</td>\n",
       "      <td>38.855808</td>\n",
       "      <td>-77.039590</td>\n",
       "      <td>0.506485</td>\n",
       "      <td>-0.601733</td>\n",
       "      <td>0.0</td>\n",
       "      <td>[ORG]</td>\n",
       "      <td>0.417524</td>\n",
       "      <td>-0.286707</td>\n",
       "    </tr>\n",
       "    <tr>\n",
       "      <th>1</th>\n",
       "      <td>0</td>\n",
       "      <td>971491</td>\n",
       "      <td>12.5</td>\n",
       "      <td>0.000000</td>\n",
       "      <td>120.541992</td>\n",
       "      <td>38.842980</td>\n",
       "      <td>-77.041540</td>\n",
       "      <td>1.105035</td>\n",
       "      <td>-2.716172</td>\n",
       "      <td>2.0</td>\n",
       "      <td>[ORG]</td>\n",
       "      <td>-1.006538</td>\n",
       "      <td>-0.456053</td>\n",
       "    </tr>\n",
       "    <tr>\n",
       "      <th>2</th>\n",
       "      <td>0</td>\n",
       "      <td>971483</td>\n",
       "      <td>12.5</td>\n",
       "      <td>0.250000</td>\n",
       "      <td>89.103790</td>\n",
       "      <td>38.856114</td>\n",
       "      <td>-77.040368</td>\n",
       "      <td>0.573876</td>\n",
       "      <td>-0.665270</td>\n",
       "      <td>0.0</td>\n",
       "      <td>[ORG]</td>\n",
       "      <td>0.451497</td>\n",
       "      <td>-0.354237</td>\n",
       "    </tr>\n",
       "    <tr>\n",
       "      <th>3</th>\n",
       "      <td>0</td>\n",
       "      <td>971515</td>\n",
       "      <td>12.5</td>\n",
       "      <td>0.400000</td>\n",
       "      <td>201.051636</td>\n",
       "      <td>38.842084</td>\n",
       "      <td>-77.042077</td>\n",
       "      <td>1.214878</td>\n",
       "      <td>-2.715001</td>\n",
       "      <td>2.0</td>\n",
       "      <td>[ORG]</td>\n",
       "      <td>-1.106002</td>\n",
       "      <td>-0.502680</td>\n",
       "    </tr>\n",
       "    <tr>\n",
       "      <th>4</th>\n",
       "      <td>0</td>\n",
       "      <td>971141</td>\n",
       "      <td>12.5</td>\n",
       "      <td>0.000000</td>\n",
       "      <td>319.440674</td>\n",
       "      <td>38.842420</td>\n",
       "      <td>-77.041590</td>\n",
       "      <td>1.163656</td>\n",
       "      <td>-2.734820</td>\n",
       "      <td>1.0</td>\n",
       "      <td>[ORG]</td>\n",
       "      <td>-1.068705</td>\n",
       "      <td>-0.460397</td>\n",
       "    </tr>\n",
       "  </tbody>\n",
       "</table>\n",
       "</div>"
      ],
      "text/plain": [
       "   Frame      ID  Altitude      Speed     Heading        Lat        Lon  \\\n",
       "0      0  971520      12.5  11.533333  356.102051  38.855808 -77.039590   \n",
       "1      0  971491      12.5   0.000000  120.541992  38.842980 -77.041540   \n",
       "2      0  971483      12.5   0.250000   89.103790  38.856114 -77.040368   \n",
       "3      0  971515      12.5   0.400000  201.051636  38.842084 -77.042077   \n",
       "4      0  971141      12.5   0.000000  319.440674  38.842420 -77.041590   \n",
       "\n",
       "      Range   Bearing  Type Interp         x         y  \n",
       "0  0.506485 -0.601733   0.0  [ORG]  0.417524 -0.286707  \n",
       "1  1.105035 -2.716172   2.0  [ORG] -1.006538 -0.456053  \n",
       "2  0.573876 -0.665270   0.0  [ORG]  0.451497 -0.354237  \n",
       "3  1.214878 -2.715001   2.0  [ORG] -1.106002 -0.502680  \n",
       "4  1.163656 -2.734820   1.0  [ORG] -1.068705 -0.460397  "
      ]
     },
     "execution_count": 10,
     "metadata": {},
     "output_type": "execute_result"
    }
   ],
   "source": [
    "airport = \"kdca\"\n",
    "base_dir = C.DATA_DIR\n",
    "traj_version = C.VERSION\n",
    "\n",
    "traj_dir = os.path.join(base_dir, f'traj_data_{traj_version}', 'raw_trajectories', f'{airport}')\n",
    "\n",
    "traj_files = [os.path.join(traj_dir, f) for f in os.listdir(traj_dir)]\n",
    "print(traj_files[0])\n",
    "\n",
    "data = pd.read_csv(traj_files[0])\n",
    "data.head()"
   ]
  },
  {
   "cell_type": "code",
   "execution_count": 11,
   "metadata": {},
   "outputs": [
    {
     "name": "stderr",
     "output_type": "stream",
     "text": [
      "100%|██████████| 100/100 [01:26<00:00,  1.16it/s]\n"
     ]
    }
   ],
   "source": [
    "agent_counts = {\n",
    "    'total': [], '0': [], '1': [], '2': []\n",
    "}\n",
    "total_count = 0\n",
    "for f in tqdm(traj_files):\n",
    "    data = pd.read_csv(f)\n",
    "\n",
    "    unique_frames = np.unique(data.Frame)\n",
    "    for frame in unique_frames:\n",
    "        agents = data[data.Frame == frame]\n",
    "\n",
    "        agent_counts['total'].append(agents.shape[0])\n",
    "        agent_counts['0'].append(np.where(agents.Type == 0.0)[0].shape[0])\n",
    "        agent_counts['1'].append(np.where(agents.Type == 1.0)[0].shape[0])\n",
    "        agent_counts['2'].append(np.where(agents.Type == 2.0)[0].shape[0])\n"
   ]
  },
  {
   "cell_type": "code",
   "execution_count": 12,
   "metadata": {},
   "outputs": [
    {
     "data": {
      "text/plain": [
       "{'total': {'min': 1.0, 'max': 32.0, 'mean': 6.98787, 'std': 4.57956},\n",
       " '0': {'min': 0.0, 'max': 22.0, 'mean': 3.02973, 'std': 3.25195},\n",
       " '1': {'min': 0.0, 'max': 8.0, 'mean': 0.38718, 'std': 1.11216},\n",
       " '2': {'min': 0.0, 'max': 22.0, 'mean': 3.57097, 'std': 3.443}}"
      ]
     },
     "execution_count": 12,
     "metadata": {},
     "output_type": "execute_result"
    }
   ],
   "source": [
    "agent_count_stats = {}\n",
    "for k, v in agent_counts.items():\n",
    "    v = np.asarray(v)\n",
    "    agent_count_stats[k] = {\n",
    "        \"min\": round(v.min().astype(float), 5),\n",
    "        \"max\": round(v.max().astype(float), 5),\n",
    "        \"mean\": round(v.mean().astype(float), 5),\n",
    "        \"std\": round(v.std().astype(float), 5)\n",
    "    }\n",
    "\n",
    "    agent_counts[k] = v\n",
    "\n",
    "agent_count_stats"
   ]
  },
  {
   "cell_type": "code",
   "execution_count": 13,
   "metadata": {},
   "outputs": [],
   "source": [
    "with open(f'{out_dir}/{airport}_stats.json', 'w') as f:\n",
    "    json.dump(agent_count_stats, f, indent=2)\n",
    "\n",
    "with open(f'{out_dir}/{airport}.pkl', 'wb') as handle:\n",
    "    pickle.dump(agent_counts, handle, protocol=pickle.HIGHEST_PROTOCOL)"
   ]
  },
  {
   "cell_type": "code",
   "execution_count": 14,
   "metadata": {},
   "outputs": [],
   "source": [
    "name = {'total': 'Total', '0': 'Aircraft', '1': 'Vehicle', '2': 'Unknown'}\n",
    "colors = {'ksea': 'blue', 'kewr': 'red', 'kbos': 'green', 'kmdw': 'orange', 'katl': 'purple'}\n",
    "for key, value in name.items():\n",
    "    arr = agent_counts[key]\n",
    "    color = colors.get(airport, 'black')\n",
    "\n",
    "    plt.hist(arr, bins = int(arr.max()), color=color)\n",
    "    plt.title(f\"{value}\")\n",
    "    plt.xlabel(\"Number of Agents per Timestep\")\n",
    "    plt.ylabel(\"Count\")\n",
    "    plt.savefig(f\"{out_dir}/{airport}_{key}.png\", dpi=600)\n",
    "    plt.close()"
   ]
  },
  {
   "cell_type": "code",
   "execution_count": 16,
   "metadata": {},
   "outputs": [],
   "source": [
    "for key, value in name.items():\n",
    "    arr = agent_counts[key]\n",
    "    q_lower = np.quantile(arr, 0.05)\n",
    "    q_upper = np.quantile(arr, 0.95)\n",
    "\n",
    "    arr = arr[(arr >= q_lower) & (arr <= q_upper)]\n",
    "    color = colors.get(airport, 'black')\n",
    "    plt.hist(arr, bins = int(arr.max()), color=color)\n",
    "    plt.title(f\"{value}\")\n",
    "    plt.xlabel(\"Number of Agents per Timestep\")\n",
    "    plt.ylabel(\"Count\")\n",
    "    plt.savefig(f\"{out_dir}/{airport}_{key}_iqr.png\", dpi=600)\n",
    "    plt.close()"
   ]
  }
 ],
 "metadata": {
  "kernelspec": {
   "display_name": "amelia",
   "language": "python",
   "name": "python3"
  },
  "language_info": {
   "codemirror_mode": {
    "name": "ipython",
    "version": 3
   },
   "file_extension": ".py",
   "mimetype": "text/x-python",
   "name": "python",
   "nbconvert_exporter": "python",
   "pygments_lexer": "ipython3",
   "version": "3.9.20"
  }
 },
 "nbformat": 4,
 "nbformat_minor": 2
}
