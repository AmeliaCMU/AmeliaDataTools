{
 "cells": [
  {
   "cell_type": "code",
   "execution_count": 1,
   "metadata": {},
   "outputs": [],
   "source": [
    "import json\n",
    "import matplotlib.pyplot as plt\n",
    "import numpy as np\n",
    "import os\n",
    "import pandas as pd\n",
    "import pickle\n",
    "\n",
    "from tqdm import tqdm\n",
    "\n",
    "out_dir = \"../../output/count\"\n",
    "os.makedirs(out_dir, exist_ok=True)\n"
   ]
  },
  {
   "cell_type": "code",
   "execution_count": 2,
   "metadata": {},
   "outputs": [
    {
     "name": "stdout",
     "output_type": "stream",
     "text": [
      "../../datasets/amelia/traj_data_a10v08/raw_trajectories/kbos/KBOS_570_1674626400.csv\n"
     ]
    },
    {
     "data": {
      "text/html": [
       "<div>\n",
       "<style scoped>\n",
       "    .dataframe tbody tr th:only-of-type {\n",
       "        vertical-align: middle;\n",
       "    }\n",
       "\n",
       "    .dataframe tbody tr th {\n",
       "        vertical-align: top;\n",
       "    }\n",
       "\n",
       "    .dataframe thead th {\n",
       "        text-align: right;\n",
       "    }\n",
       "</style>\n",
       "<table border=\"1\" class=\"dataframe\">\n",
       "  <thead>\n",
       "    <tr style=\"text-align: right;\">\n",
       "      <th></th>\n",
       "      <th>Frame</th>\n",
       "      <th>ID</th>\n",
       "      <th>Altitude</th>\n",
       "      <th>Speed</th>\n",
       "      <th>Heading</th>\n",
       "      <th>Lat</th>\n",
       "      <th>Lon</th>\n",
       "      <th>Range</th>\n",
       "      <th>Bearing</th>\n",
       "      <th>Type</th>\n",
       "      <th>Interp</th>\n",
       "      <th>x</th>\n",
       "      <th>y</th>\n",
       "    </tr>\n",
       "  </thead>\n",
       "  <tbody>\n",
       "    <tr>\n",
       "      <th>0</th>\n",
       "      <td>0</td>\n",
       "      <td>1818967</td>\n",
       "      <td>12.5</td>\n",
       "      <td>0.0</td>\n",
       "      <td>171.867920</td>\n",
       "      <td>42.35289</td>\n",
       "      <td>-71.01582</td>\n",
       "      <td>1.444150</td>\n",
       "      <td>-2.797495</td>\n",
       "      <td>1.0</td>\n",
       "      <td>[ORG]</td>\n",
       "      <td>-1.359494</td>\n",
       "      <td>-0.487181</td>\n",
       "    </tr>\n",
       "    <tr>\n",
       "      <th>1</th>\n",
       "      <td>0</td>\n",
       "      <td>1818783</td>\n",
       "      <td>12.5</td>\n",
       "      <td>0.0</td>\n",
       "      <td>159.954346</td>\n",
       "      <td>42.37469</td>\n",
       "      <td>-71.00399</td>\n",
       "      <td>1.168532</td>\n",
       "      <td>0.430202</td>\n",
       "      <td>1.0</td>\n",
       "      <td>[ORG]</td>\n",
       "      <td>1.062057</td>\n",
       "      <td>0.487342</td>\n",
       "    </tr>\n",
       "    <tr>\n",
       "      <th>2</th>\n",
       "      <td>0</td>\n",
       "      <td>1819383</td>\n",
       "      <td>12.5</td>\n",
       "      <td>0.0</td>\n",
       "      <td>209.052246</td>\n",
       "      <td>42.36078</td>\n",
       "      <td>-71.01558</td>\n",
       "      <td>0.672141</td>\n",
       "      <td>-2.372738</td>\n",
       "      <td>2.0</td>\n",
       "      <td>[ORG]</td>\n",
       "      <td>-0.483073</td>\n",
       "      <td>-0.467348</td>\n",
       "    </tr>\n",
       "    <tr>\n",
       "      <th>3</th>\n",
       "      <td>0</td>\n",
       "      <td>1818760</td>\n",
       "      <td>12.5</td>\n",
       "      <td>0.0</td>\n",
       "      <td>183.022723</td>\n",
       "      <td>42.35498</td>\n",
       "      <td>-71.01719</td>\n",
       "      <td>1.277072</td>\n",
       "      <td>-2.652468</td>\n",
       "      <td>2.0</td>\n",
       "      <td>[ORG]</td>\n",
       "      <td>-1.127328</td>\n",
       "      <td>-0.600037</td>\n",
       "    </tr>\n",
       "    <tr>\n",
       "      <th>4</th>\n",
       "      <td>1</td>\n",
       "      <td>1818967</td>\n",
       "      <td>12.5</td>\n",
       "      <td>0.0</td>\n",
       "      <td>171.877808</td>\n",
       "      <td>42.35289</td>\n",
       "      <td>-71.01582</td>\n",
       "      <td>1.444150</td>\n",
       "      <td>-2.797495</td>\n",
       "      <td>1.0</td>\n",
       "      <td>[ORG]</td>\n",
       "      <td>-1.359494</td>\n",
       "      <td>-0.487181</td>\n",
       "    </tr>\n",
       "  </tbody>\n",
       "</table>\n",
       "</div>"
      ],
      "text/plain": [
       "   Frame       ID  Altitude  Speed     Heading       Lat       Lon     Range  \\\n",
       "0      0  1818967      12.5    0.0  171.867920  42.35289 -71.01582  1.444150   \n",
       "1      0  1818783      12.5    0.0  159.954346  42.37469 -71.00399  1.168532   \n",
       "2      0  1819383      12.5    0.0  209.052246  42.36078 -71.01558  0.672141   \n",
       "3      0  1818760      12.5    0.0  183.022723  42.35498 -71.01719  1.277072   \n",
       "4      1  1818967      12.5    0.0  171.877808  42.35289 -71.01582  1.444150   \n",
       "\n",
       "    Bearing  Type Interp         x         y  \n",
       "0 -2.797495   1.0  [ORG] -1.359494 -0.487181  \n",
       "1  0.430202   1.0  [ORG]  1.062057  0.487342  \n",
       "2 -2.372738   2.0  [ORG] -0.483073 -0.467348  \n",
       "3 -2.652468   2.0  [ORG] -1.127328 -0.600037  \n",
       "4 -2.797495   1.0  [ORG] -1.359494 -0.487181  "
      ]
     },
     "execution_count": 2,
     "metadata": {},
     "output_type": "execute_result"
    }
   ],
   "source": [
    "airport = \"kbos\"\n",
    "base_dir = '../../datasets/amelia'\n",
    "traj_version = 'a10v08'\n",
    "\n",
    "\n",
    "\n",
    "traj_dir = os.path.join(base_dir, f'traj_data_{traj_version}', 'raw_trajectories', f'{airport}')\n",
    "\n",
    "traj_files = [os.path.join(traj_dir, f) for f in os.listdir(traj_dir)]\n",
    "print(traj_files[0])\n",
    "\n",
    "data = pd.read_csv(traj_files[0])\n",
    "data.head()"
   ]
  },
  {
   "cell_type": "code",
   "execution_count": 3,
   "metadata": {},
   "outputs": [
    {
     "name": "stderr",
     "output_type": "stream",
     "text": [
      "100%|██████████| 100/100 [01:27<00:00,  1.14it/s]\n"
     ]
    }
   ],
   "source": [
    "agent_counts = {\n",
    "    'total': [], '0': [], '1': [], '2': []\n",
    "}\n",
    "total_count = 0\n",
    "for f in tqdm(traj_files):\n",
    "    data = pd.read_csv(f)\n",
    "\n",
    "    unique_frames = np.unique(data.Frame)\n",
    "    for frame in unique_frames:\n",
    "        agents = data[data.Frame == frame]\n",
    "\n",
    "        agent_counts['total'].append(agents.shape[0])\n",
    "        agent_counts['0'].append(np.where(agents.Type == 0.0)[0].shape[0])\n",
    "        agent_counts['1'].append(np.where(agents.Type == 1.0)[0].shape[0])\n",
    "        agent_counts['2'].append(np.where(agents.Type == 2.0)[0].shape[0])\n"
   ]
  },
  {
   "cell_type": "code",
   "execution_count": 4,
   "metadata": {},
   "outputs": [
    {
     "data": {
      "text/plain": [
       "{'total': {'min': 1.0, 'max': 34.0, 'mean': 8.96946, 'std': 4.90629},\n",
       " '0': {'min': 0.0, 'max': 22.0, 'mean': 5.81227, 'std': 4.22062},\n",
       " '1': {'min': 0.0, 'max': 12.0, 'mean': 1.09617, 'std': 1.55719},\n",
       " '2': {'min': 0.0, 'max': 11.0, 'mean': 2.06102, 'std': 1.55569}}"
      ]
     },
     "execution_count": 4,
     "metadata": {},
     "output_type": "execute_result"
    }
   ],
   "source": [
    "agent_count_stats = {}\n",
    "for k, v in agent_counts.items():\n",
    "    v = np.asarray(v)\n",
    "    agent_count_stats[k] = {\n",
    "        \"min\": round(v.min().astype(float), 5),\n",
    "        \"max\": round(v.max().astype(float), 5),\n",
    "        \"mean\": round(v.mean().astype(float), 5),\n",
    "        \"std\": round(v.std().astype(float), 5)\n",
    "    }\n",
    "\n",
    "    agent_counts[k] = v\n",
    "\n",
    "agent_count_stats"
   ]
  },
  {
   "cell_type": "code",
   "execution_count": 5,
   "metadata": {},
   "outputs": [],
   "source": [
    "with open(f'{out_dir}/{airport}_stats.json', 'w') as f:\n",
    "    json.dump(agent_count_stats, f, indent=2)\n",
    "\n",
    "with open(f'{out_dir}/{airport}.pkl', 'wb') as handle:\n",
    "    pickle.dump(agent_counts, handle, protocol=pickle.HIGHEST_PROTOCOL)"
   ]
  },
  {
   "cell_type": "code",
   "execution_count": 6,
   "metadata": {},
   "outputs": [],
   "source": [
    "name = {'total': 'Total', '0': 'Aircraft', '1': 'Vehicle', '2': 'Unknown'}\n",
    "colors = {'ksea': 'blue', 'kewr': 'red', 'kbos': 'green', 'kmdw': 'orange'}\n",
    "for key, value in name.items():\n",
    "    arr = agent_counts[key]\n",
    "\n",
    "    plt.hist(arr, bins = int(arr.max()), color=colors[airport])\n",
    "    plt.title(f\"{value}\")\n",
    "    plt.xlabel(\"Number of Agents per Timestep\")\n",
    "    plt.ylabel(\"Count\")\n",
    "    plt.savefig(f\"{out_dir}/{airport}_{key}.png\", dpi=600)\n",
    "    plt.close()"
   ]
  },
  {
   "cell_type": "code",
   "execution_count": 7,
   "metadata": {},
   "outputs": [],
   "source": [
    "for key, value in name.items():\n",
    "    arr = agent_counts[key]\n",
    "    q_lower = np.quantile(arr, 0.05)\n",
    "    q_upper = np.quantile(arr, 0.95)\n",
    "\n",
    "    arr = arr[(arr >= q_lower) & (arr <= q_upper)]\n",
    "\n",
    "    plt.hist(arr, bins = int(arr.max()), color=colors[airport])\n",
    "    plt.title(f\"{value}\")\n",
    "    plt.xlabel(\"Number of Agents per Timestep\")\n",
    "    plt.ylabel(\"Count\")\n",
    "    plt.savefig(f\"{out_dir}/{airport}_{key}_iqr.png\", dpi=600)\n",
    "    plt.close()"
   ]
  }
 ],
 "metadata": {
  "kernelspec": {
   "display_name": "boeing-tf",
   "language": "python",
   "name": "python3"
  },
  "language_info": {
   "codemirror_mode": {
    "name": "ipython",
    "version": 3
   },
   "file_extension": ".py",
   "mimetype": "text/x-python",
   "name": "python",
   "nbconvert_exporter": "python",
   "pygments_lexer": "ipython3",
   "version": "3.9.19"
  }
 },
 "nbformat": 4,
 "nbformat_minor": 2
}
