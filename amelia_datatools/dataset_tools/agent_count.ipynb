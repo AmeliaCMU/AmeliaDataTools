{
 "cells": [
  {
   "cell_type": "code",
   "execution_count": null,
   "metadata": {},
   "outputs": [],
   "source": [
    "import json\n",
    "import matplotlib.pyplot as plt\n",
    "import numpy as np\n",
    "import os\n",
    "import pandas as pd\n",
    "import pickle\n",
    "from tqdm import tqdm\n",
    "\n",
    "import amelia_datatools.utils.common as C\n",
    "\n",
    "out_dir = f\"{C.OUTPUT_DIR}/count\"\n",
    "os.makedirs(out_dir, exist_ok=True)\n"
   ]
  },
  {
   "cell_type": "code",
   "execution_count": null,
   "metadata": {},
   "outputs": [
    {
     "name": "stdout",
     "output_type": "stream",
     "text": [
      "/Users/alonso.cano/Developer/CMU/Amelia/AmeliaDataTools/datasets/amelia/traj_data_a10v08/raw_trajectories/katl/KATL_498_1682107200.csv\n"
     ]
    },
    {
     "data": {
      "text/html": [
       "<div>\n",
       "<style scoped>\n",
       "    .dataframe tbody tr th:only-of-type {\n",
       "        vertical-align: middle;\n",
       "    }\n",
       "\n",
       "    .dataframe tbody tr th {\n",
       "        vertical-align: top;\n",
       "    }\n",
       "\n",
       "    .dataframe thead th {\n",
       "        text-align: right;\n",
       "    }\n",
       "</style>\n",
       "<table border=\"1\" class=\"dataframe\">\n",
       "  <thead>\n",
       "    <tr style=\"text-align: right;\">\n",
       "      <th></th>\n",
       "      <th>Frame</th>\n",
       "      <th>ID</th>\n",
       "      <th>Altitude</th>\n",
       "      <th>Speed</th>\n",
       "      <th>Heading</th>\n",
       "      <th>Lat</th>\n",
       "      <th>Lon</th>\n",
       "      <th>Range</th>\n",
       "      <th>Bearing</th>\n",
       "      <th>Type</th>\n",
       "      <th>Interp</th>\n",
       "      <th>x</th>\n",
       "      <th>y</th>\n",
       "    </tr>\n",
       "  </thead>\n",
       "  <tbody>\n",
       "    <tr>\n",
       "      <th>0</th>\n",
       "      <td>0</td>\n",
       "      <td>17335176</td>\n",
       "      <td>1006.25</td>\n",
       "      <td>16.666667</td>\n",
       "      <td>270.582275</td>\n",
       "      <td>33.64849</td>\n",
       "      <td>-84.437928</td>\n",
       "      <td>1.606820</td>\n",
       "      <td>-0.619965</td>\n",
       "      <td>2.0</td>\n",
       "      <td>[ORG]</td>\n",
       "      <td>1.307789</td>\n",
       "      <td>-0.933573</td>\n",
       "    </tr>\n",
       "    <tr>\n",
       "      <th>1</th>\n",
       "      <td>0</td>\n",
       "      <td>17336725</td>\n",
       "      <td>1006.25</td>\n",
       "      <td>0.000000</td>\n",
       "      <td>0.000000</td>\n",
       "      <td>33.64047</td>\n",
       "      <td>-84.420500</td>\n",
       "      <td>0.801022</td>\n",
       "      <td>1.021473</td>\n",
       "      <td>2.0</td>\n",
       "      <td>[ORG]</td>\n",
       "      <td>0.418222</td>\n",
       "      <td>0.683174</td>\n",
       "    </tr>\n",
       "    <tr>\n",
       "      <th>2</th>\n",
       "      <td>0</td>\n",
       "      <td>17336862</td>\n",
       "      <td>1006.25</td>\n",
       "      <td>32.000000</td>\n",
       "      <td>69.713745</td>\n",
       "      <td>33.63601</td>\n",
       "      <td>-84.439076</td>\n",
       "      <td>1.043019</td>\n",
       "      <td>-1.644141</td>\n",
       "      <td>2.0</td>\n",
       "      <td>[ORG]</td>\n",
       "      <td>-0.076431</td>\n",
       "      <td>-1.040215</td>\n",
       "    </tr>\n",
       "    <tr>\n",
       "      <th>3</th>\n",
       "      <td>0</td>\n",
       "      <td>17336755</td>\n",
       "      <td>1016.25</td>\n",
       "      <td>112.500000</td>\n",
       "      <td>90.800903</td>\n",
       "      <td>33.64954</td>\n",
       "      <td>-84.434894</td>\n",
       "      <td>1.566424</td>\n",
       "      <td>-0.429385</td>\n",
       "      <td>0.0</td>\n",
       "      <td>[ORG]</td>\n",
       "      <td>1.424227</td>\n",
       "      <td>-0.652120</td>\n",
       "    </tr>\n",
       "    <tr>\n",
       "      <th>4</th>\n",
       "      <td>0</td>\n",
       "      <td>17336885</td>\n",
       "      <td>1006.25</td>\n",
       "      <td>0.000000</td>\n",
       "      <td>9.997559</td>\n",
       "      <td>33.64857</td>\n",
       "      <td>-84.438944</td>\n",
       "      <td>1.670340</td>\n",
       "      <td>-0.662811</td>\n",
       "      <td>2.0</td>\n",
       "      <td>[ORG]</td>\n",
       "      <td>1.316672</td>\n",
       "      <td>-1.027820</td>\n",
       "    </tr>\n",
       "  </tbody>\n",
       "</table>\n",
       "</div>"
      ],
      "text/plain": [
       "   Frame        ID  Altitude       Speed     Heading       Lat        Lon  \\\n",
       "0      0  17335176   1006.25   16.666667  270.582275  33.64849 -84.437928   \n",
       "1      0  17336725   1006.25    0.000000    0.000000  33.64047 -84.420500   \n",
       "2      0  17336862   1006.25   32.000000   69.713745  33.63601 -84.439076   \n",
       "3      0  17336755   1016.25  112.500000   90.800903  33.64954 -84.434894   \n",
       "4      0  17336885   1006.25    0.000000    9.997559  33.64857 -84.438944   \n",
       "\n",
       "      Range   Bearing  Type Interp         x         y  \n",
       "0  1.606820 -0.619965   2.0  [ORG]  1.307789 -0.933573  \n",
       "1  0.801022  1.021473   2.0  [ORG]  0.418222  0.683174  \n",
       "2  1.043019 -1.644141   2.0  [ORG] -0.076431 -1.040215  \n",
       "3  1.566424 -0.429385   0.0  [ORG]  1.424227 -0.652120  \n",
       "4  1.670340 -0.662811   2.0  [ORG]  1.316672 -1.027820  "
      ]
     },
     "execution_count": 10,
     "metadata": {},
     "output_type": "execute_result"
    }
   ],
   "source": [
    "airport = \"katl\"\n",
    "base_dir = C.DATA_DIR\n",
    "traj_version = C.VERSION\n",
    "\n",
    "traj_dir = os.path.join(base_dir, f'traj_data_{traj_version}', 'raw_trajectories', f'{airport}')\n",
    "\n",
    "traj_files = [os.path.join(traj_dir, f) for f in os.listdir(traj_dir)]\n",
    "print(traj_files[0])\n",
    "\n",
    "data = pd.read_csv(traj_files[0])\n",
    "data.head()"
   ]
  },
  {
   "cell_type": "code",
   "execution_count": 11,
   "metadata": {},
   "outputs": [
    {
     "name": "stderr",
     "output_type": "stream",
     "text": [
      "100%|██████████| 686/686 [19:07<00:00,  1.67s/it]\n"
     ]
    }
   ],
   "source": [
    "agent_counts = {\n",
    "    'total': [], '0': [], '1': [], '2': []\n",
    "}\n",
    "total_count = 0\n",
    "for f in tqdm(traj_files):\n",
    "    data = pd.read_csv(f)\n",
    "\n",
    "    unique_frames = np.unique(data.Frame)\n",
    "    for frame in unique_frames:\n",
    "        agents = data[data.Frame == frame]\n",
    "\n",
    "        agent_counts['total'].append(agents.shape[0])\n",
    "        agent_counts['0'].append(np.where(agents.Type == 0.0)[0].shape[0])\n",
    "        agent_counts['1'].append(np.where(agents.Type == 1.0)[0].shape[0])\n",
    "        agent_counts['2'].append(np.where(agents.Type == 2.0)[0].shape[0])\n"
   ]
  },
  {
   "cell_type": "code",
   "execution_count": 12,
   "metadata": {},
   "outputs": [
    {
     "data": {
      "text/plain": [
       "{'total': {'min': 1.0, 'max': 115.0, 'mean': 43.51777, 'std': 16.89383},\n",
       " '0': {'min': 0.0, 'max': 64.0, 'mean': 13.04162, 'std': 10.0276},\n",
       " '1': {'min': 0.0, 'max': 14.0, 'mean': 2.41698, 'std': 1.84872},\n",
       " '2': {'min': 0.0, 'max': 75.0, 'mean': 28.05275, 'std': 10.13574}}"
      ]
     },
     "execution_count": 12,
     "metadata": {},
     "output_type": "execute_result"
    }
   ],
   "source": [
    "agent_count_stats = {}\n",
    "for k, v in agent_counts.items():\n",
    "    v = np.asarray(v)\n",
    "    agent_count_stats[k] = {\n",
    "        \"min\": round(v.min().astype(float), 5),\n",
    "        \"max\": round(v.max().astype(float), 5),\n",
    "        \"mean\": round(v.mean().astype(float), 5),\n",
    "        \"std\": round(v.std().astype(float), 5)\n",
    "    }\n",
    "\n",
    "    agent_counts[k] = v\n",
    "\n",
    "agent_count_stats"
   ]
  },
  {
   "cell_type": "code",
   "execution_count": 13,
   "metadata": {},
   "outputs": [],
   "source": [
    "with open(f'{out_dir}/{airport}_stats.json', 'w') as f:\n",
    "    json.dump(agent_count_stats, f, indent=2)\n",
    "\n",
    "with open(f'{out_dir}/{airport}.pkl', 'wb') as handle:\n",
    "    pickle.dump(agent_counts, handle, protocol=pickle.HIGHEST_PROTOCOL)"
   ]
  },
  {
   "cell_type": "code",
   "execution_count": 14,
   "metadata": {},
   "outputs": [],
   "source": [
    "name = {'total': 'Total', '0': 'Aircraft', '1': 'Vehicle', '2': 'Unknown'}\n",
    "colors = {'ksea': 'blue', 'kewr': 'red', 'kbos': 'green', 'kmdw': 'orange', 'katl': 'purple'}\n",
    "for key, value in name.items():\n",
    "    arr = agent_counts[key]\n",
    "\n",
    "    plt.hist(arr, bins = int(arr.max()), color=colors[airport])\n",
    "    plt.title(f\"{value}\")\n",
    "    plt.xlabel(\"Number of Agents per Timestep\")\n",
    "    plt.ylabel(\"Count\")\n",
    "    plt.savefig(f\"{out_dir}/{airport}_{key}.png\", dpi=600)\n",
    "    plt.close()"
   ]
  },
  {
   "cell_type": "code",
   "execution_count": 15,
   "metadata": {},
   "outputs": [],
   "source": [
    "for key, value in name.items():\n",
    "    arr = agent_counts[key]\n",
    "    q_lower = np.quantile(arr, 0.05)\n",
    "    q_upper = np.quantile(arr, 0.95)\n",
    "\n",
    "    arr = arr[(arr >= q_lower) & (arr <= q_upper)]\n",
    "\n",
    "    plt.hist(arr, bins = int(arr.max()), color=colors[airport])\n",
    "    plt.title(f\"{value}\")\n",
    "    plt.xlabel(\"Number of Agents per Timestep\")\n",
    "    plt.ylabel(\"Count\")\n",
    "    plt.savefig(f\"{out_dir}/{airport}_{key}_iqr.png\", dpi=600)\n",
    "    plt.close()"
   ]
  }
 ],
 "metadata": {
  "kernelspec": {
   "display_name": "amelia",
   "language": "python",
   "name": "python3"
  },
  "language_info": {
   "codemirror_mode": {
    "name": "ipython",
    "version": 3
   },
   "file_extension": ".py",
   "mimetype": "text/x-python",
   "name": "python",
   "nbconvert_exporter": "python",
   "pygments_lexer": "ipython3",
   "version": "3.9.20"
  }
 },
 "nbformat": 4,
 "nbformat_minor": 2
}
