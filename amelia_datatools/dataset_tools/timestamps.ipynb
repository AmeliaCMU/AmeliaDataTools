{
 "cells": [
  {
   "cell_type": "code",
   "execution_count": null,
   "metadata": {},
   "outputs": [],
   "source": [
    "import os\n",
    "import numpy as np\n",
    "from datetime import datetime, timezone\n",
    "from amelia_datatools.utils import common as C"
   ]
  },
  {
   "cell_type": "code",
   "execution_count": null,
   "metadata": {},
   "outputs": [],
   "source": [
    "airport = \"kbos\"\n",
    "base_dir = C.DATA_DIR\n",
    "traj_version = C.VERSION\n",
    "traj_dir = os.path.join(base_dir, f'traj_data_{traj_version}/raw_trajectories', f'{airport}')"
   ]
  },
  {
   "cell_type": "code",
   "execution_count": null,
   "metadata": {},
   "outputs": [],
   "source": [
    "trajectory_files = np.asarray([f for f in os.listdir(traj_dir)])\n",
    "unix_times = [int(f.split('.')[0].split('_')[-1]) for f in trajectory_files]\n",
    "\n",
    "# Get the month of each file\n",
    "utc_times = np.asarray([\n",
    "    datetime.fromtimestamp(ut, tz=timezone.utc).month\n",
    "          # .strftime('%Y-%m-%d %H:%M:%S')\n",
    "    for ut in unix_times])\n",
    "\n",
    "# Get unique months\n",
    "months = np.unique(utc_times)\n",
    "num_months = months.shape[0]"
   ]
  },
  {
   "cell_type": "code",
   "execution_count": null,
   "metadata": {},
   "outputs": [],
   "source": [
    "# Select months for training/validation and for testing\n",
    "seen_months = np.random.choice(months, size=int(0.75 * num_months), replace=False)\n",
    "unseen_months = list(set(months.tolist()).symmetric_difference(seen_months.tolist()))\n",
    "\n",
    "print(f\"Months: {months}\\nSeen Months: {seen_months}\\nUnseen Months: {unseen_months}\")"
   ]
  },
  {
   "cell_type": "code",
   "execution_count": null,
   "metadata": {},
   "outputs": [],
   "source": [
    "seen_idx = np.in1d(utc_times, seen_months)\n",
    "seen_files = trajectory_files[seen_idx]\n",
    "\n",
    "unseen_idx = np.in1d(utc_times, unseen_months)\n",
    "unseen_files = trajectory_files[unseen_idx]"
   ]
  }
 ],
 "metadata": {
  "kernelspec": {
   "display_name": "amelia",
   "language": "python",
   "name": "python3"
  },
  "language_info": {
   "codemirror_mode": {
    "name": "ipython",
    "version": 3
   },
   "file_extension": ".py",
   "mimetype": "text/x-python",
   "name": "python",
   "nbconvert_exporter": "python",
   "pygments_lexer": "ipython3",
   "version": "3.9.20"
  }
 },
 "nbformat": 4,
 "nbformat_minor": 2
}
