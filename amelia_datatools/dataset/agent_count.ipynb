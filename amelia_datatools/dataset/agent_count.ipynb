{
 "cells": [
  {
   "cell_type": "code",
   "execution_count": 1,
   "metadata": {},
   "outputs": [],
   "source": [
    "import json\n",
    "import matplotlib.pyplot as plt\n",
    "import numpy as np\n",
    "import os\n",
    "import pandas as pd\n",
    "import pickle\n",
    "\n",
    "from tqdm import tqdm\n",
    "\n",
    "out_dir = \"../../output/count\"\n",
    "os.makedirs(out_dir, exist_ok=True)\n"
   ]
  },
  {
   "cell_type": "code",
   "execution_count": 2,
   "metadata": {},
   "outputs": [
    {
     "name": "stdout",
     "output_type": "stream",
     "text": [
      "../../datasets/amelia/traj_data_a10v08/raw_trajectories/kmdw/KMDW_184_1686178800.csv\n"
     ]
    },
    {
     "data": {
      "text/html": [
       "<div>\n",
       "<style scoped>\n",
       "    .dataframe tbody tr th:only-of-type {\n",
       "        vertical-align: middle;\n",
       "    }\n",
       "\n",
       "    .dataframe tbody tr th {\n",
       "        vertical-align: top;\n",
       "    }\n",
       "\n",
       "    .dataframe thead th {\n",
       "        text-align: right;\n",
       "    }\n",
       "</style>\n",
       "<table border=\"1\" class=\"dataframe\">\n",
       "  <thead>\n",
       "    <tr style=\"text-align: right;\">\n",
       "      <th></th>\n",
       "      <th>Frame</th>\n",
       "      <th>ID</th>\n",
       "      <th>Altitude</th>\n",
       "      <th>Speed</th>\n",
       "      <th>Heading</th>\n",
       "      <th>Lat</th>\n",
       "      <th>Lon</th>\n",
       "      <th>Range</th>\n",
       "      <th>Bearing</th>\n",
       "      <th>Type</th>\n",
       "      <th>Interp</th>\n",
       "      <th>x</th>\n",
       "      <th>y</th>\n",
       "    </tr>\n",
       "  </thead>\n",
       "  <tbody>\n",
       "    <tr>\n",
       "      <th>0</th>\n",
       "      <td>0</td>\n",
       "      <td>2063735</td>\n",
       "      <td>612.5</td>\n",
       "      <td>0.0</td>\n",
       "      <td>94.130859</td>\n",
       "      <td>41.782290</td>\n",
       "      <td>-87.751580</td>\n",
       "      <td>0.491627</td>\n",
       "      <td>3.024479</td>\n",
       "      <td>1.0</td>\n",
       "      <td>[ORG]</td>\n",
       "      <td>-0.488260</td>\n",
       "      <td>0.057445</td>\n",
       "    </tr>\n",
       "    <tr>\n",
       "      <th>1</th>\n",
       "      <td>0</td>\n",
       "      <td>2065063</td>\n",
       "      <td>612.5</td>\n",
       "      <td>3.1</td>\n",
       "      <td>140.601929</td>\n",
       "      <td>41.783812</td>\n",
       "      <td>-87.744674</td>\n",
       "      <td>0.707620</td>\n",
       "      <td>2.038758</td>\n",
       "      <td>0.0</td>\n",
       "      <td>[ORG]</td>\n",
       "      <td>-0.319185</td>\n",
       "      <td>0.631543</td>\n",
       "    </tr>\n",
       "    <tr>\n",
       "      <th>2</th>\n",
       "      <td>0</td>\n",
       "      <td>2065188</td>\n",
       "      <td>612.5</td>\n",
       "      <td>0.0</td>\n",
       "      <td>358.571777</td>\n",
       "      <td>41.791940</td>\n",
       "      <td>-87.746520</td>\n",
       "      <td>0.754364</td>\n",
       "      <td>0.686298</td>\n",
       "      <td>2.0</td>\n",
       "      <td>[ORG]</td>\n",
       "      <td>0.583574</td>\n",
       "      <td>0.478024</td>\n",
       "    </tr>\n",
       "    <tr>\n",
       "      <th>3</th>\n",
       "      <td>0</td>\n",
       "      <td>2064899</td>\n",
       "      <td>612.5</td>\n",
       "      <td>0.7</td>\n",
       "      <td>44.477304</td>\n",
       "      <td>41.788320</td>\n",
       "      <td>-87.760220</td>\n",
       "      <td>0.685238</td>\n",
       "      <td>-1.302699</td>\n",
       "      <td>2.0</td>\n",
       "      <td>[ORG]</td>\n",
       "      <td>0.181518</td>\n",
       "      <td>-0.660759</td>\n",
       "    </tr>\n",
       "    <tr>\n",
       "      <th>4</th>\n",
       "      <td>0</td>\n",
       "      <td>2064965</td>\n",
       "      <td>612.5</td>\n",
       "      <td>8.3</td>\n",
       "      <td>190.194214</td>\n",
       "      <td>41.781674</td>\n",
       "      <td>-87.753834</td>\n",
       "      <td>0.571641</td>\n",
       "      <td>-2.912282</td>\n",
       "      <td>0.0</td>\n",
       "      <td>[ORG]</td>\n",
       "      <td>-0.556677</td>\n",
       "      <td>-0.129937</td>\n",
       "    </tr>\n",
       "  </tbody>\n",
       "</table>\n",
       "</div>"
      ],
      "text/plain": [
       "   Frame       ID  Altitude  Speed     Heading        Lat        Lon  \\\n",
       "0      0  2063735     612.5    0.0   94.130859  41.782290 -87.751580   \n",
       "1      0  2065063     612.5    3.1  140.601929  41.783812 -87.744674   \n",
       "2      0  2065188     612.5    0.0  358.571777  41.791940 -87.746520   \n",
       "3      0  2064899     612.5    0.7   44.477304  41.788320 -87.760220   \n",
       "4      0  2064965     612.5    8.3  190.194214  41.781674 -87.753834   \n",
       "\n",
       "      Range   Bearing  Type Interp         x         y  \n",
       "0  0.491627  3.024479   1.0  [ORG] -0.488260  0.057445  \n",
       "1  0.707620  2.038758   0.0  [ORG] -0.319185  0.631543  \n",
       "2  0.754364  0.686298   2.0  [ORG]  0.583574  0.478024  \n",
       "3  0.685238 -1.302699   2.0  [ORG]  0.181518 -0.660759  \n",
       "4  0.571641 -2.912282   0.0  [ORG] -0.556677 -0.129937  "
      ]
     },
     "execution_count": 2,
     "metadata": {},
     "output_type": "execute_result"
    }
   ],
   "source": [
    "airport = \"kmdw\"\n",
    "base_dir = '../../datasets/amelia'\n",
    "traj_version = 'a10v08'\n",
    "\n",
    "\n",
    "\n",
    "traj_dir = os.path.join(base_dir, f'traj_data_{traj_version}', 'raw_trajectories', f'{airport}')\n",
    "\n",
    "traj_files = [os.path.join(traj_dir, f) for f in os.listdir(traj_dir)]\n",
    "print(traj_files[0])\n",
    "\n",
    "data = pd.read_csv(traj_files[0])\n",
    "data.head()"
   ]
  },
  {
   "cell_type": "code",
   "execution_count": 3,
   "metadata": {},
   "outputs": [
    {
     "name": "stderr",
     "output_type": "stream",
     "text": [
      "100%|██████████| 100/100 [01:25<00:00,  1.17it/s]\n"
     ]
    }
   ],
   "source": [
    "agent_counts = {\n",
    "    'total': [], '0': [], '1': [], '2': []\n",
    "}\n",
    "total_count = 0\n",
    "for f in tqdm(traj_files):\n",
    "    data = pd.read_csv(f)\n",
    "\n",
    "    unique_frames = np.unique(data.Frame)\n",
    "    for frame in unique_frames:\n",
    "        agents = data[data.Frame == frame]\n",
    "\n",
    "        agent_counts['total'].append(agents.shape[0])\n",
    "        agent_counts['0'].append(np.where(agents.Type == 0.0)[0].shape[0])\n",
    "        agent_counts['1'].append(np.where(agents.Type == 1.0)[0].shape[0])\n",
    "        agent_counts['2'].append(np.where(agents.Type == 2.0)[0].shape[0])\n"
   ]
  },
  {
   "cell_type": "code",
   "execution_count": 4,
   "metadata": {},
   "outputs": [
    {
     "data": {
      "text/plain": [
       "{'total': {'min': 2.0, 'max': 35.0, 'mean': 11.34282, 'std': 4.88353},\n",
       " '0': {'min': 0.0, 'max': 15.0, 'mean': 2.63311, 'std': 2.4362},\n",
       " '1': {'min': 0.0, 'max': 19.0, 'mean': 2.67156, 'std': 3.86028},\n",
       " '2': {'min': 2.0, 'max': 18.0, 'mean': 6.03808, 'std': 1.98603}}"
      ]
     },
     "execution_count": 4,
     "metadata": {},
     "output_type": "execute_result"
    }
   ],
   "source": [
    "agent_count_stats = {}\n",
    "for k, v in agent_counts.items():\n",
    "    v = np.asarray(v)\n",
    "    agent_count_stats[k] = {\n",
    "        \"min\": round(v.min().astype(float), 5),\n",
    "        \"max\": round(v.max().astype(float), 5),\n",
    "        \"mean\": round(v.mean().astype(float), 5),\n",
    "        \"std\": round(v.std().astype(float), 5)\n",
    "    }\n",
    "\n",
    "    agent_counts[k] = v\n",
    "\n",
    "agent_count_stats"
   ]
  },
  {
   "cell_type": "code",
   "execution_count": 5,
   "metadata": {},
   "outputs": [],
   "source": [
    "with open(f'{out_dir}/{airport}_stats.json', 'w') as f:\n",
    "    json.dump(agent_count_stats, f, indent=2)\n",
    "\n",
    "with open(f'{out_dir}/{airport}.pkl', 'wb') as handle:\n",
    "    pickle.dump(agent_counts, handle, protocol=pickle.HIGHEST_PROTOCOL)"
   ]
  },
  {
   "cell_type": "code",
   "execution_count": 6,
   "metadata": {},
   "outputs": [],
   "source": [
    "name = {'total': 'Total', '0': 'Aircraft', '1': 'Vehicle', '2': 'Unknown'}\n",
    "colors = {'ksea': 'blue', 'kewr': 'red', 'kbos': 'green', 'kmdw': 'orange'}\n",
    "for key, value in name.items():\n",
    "    arr = agent_counts[key]\n",
    "\n",
    "    plt.hist(arr, bins = int(arr.max()), color=colors[airport])\n",
    "    plt.title(f\"{value}\")\n",
    "    plt.xlabel(\"Number of Agents per Timestep\")\n",
    "    plt.ylabel(\"Count\")\n",
    "    plt.savefig(f\"{out_dir}/{airport}_{key}.png\", dpi=600)\n",
    "    plt.close()"
   ]
  },
  {
   "cell_type": "code",
   "execution_count": 7,
   "metadata": {},
   "outputs": [],
   "source": [
    "for key, value in name.items():\n",
    "    arr = agent_counts[key]\n",
    "    q_lower = np.quantile(arr, 0.05)\n",
    "    q_upper = np.quantile(arr, 0.95)\n",
    "\n",
    "    arr = arr[(arr >= q_lower) & (arr <= q_upper)]\n",
    "\n",
    "    plt.hist(arr, bins = int(arr.max()), color=colors[airport])\n",
    "    plt.title(f\"{value}\")\n",
    "    plt.xlabel(\"Number of Agents per Timestep\")\n",
    "    plt.ylabel(\"Count\")\n",
    "    plt.savefig(f\"{out_dir}/{airport}_{key}_iqr.png\", dpi=600)\n",
    "    plt.close()"
   ]
  }
 ],
 "metadata": {
  "kernelspec": {
   "display_name": "boeing-tf",
   "language": "python",
   "name": "python3"
  },
  "language_info": {
   "codemirror_mode": {
    "name": "ipython",
    "version": 3
   },
   "file_extension": ".py",
   "mimetype": "text/x-python",
   "name": "python",
   "nbconvert_exporter": "python",
   "pygments_lexer": "ipython3",
   "version": "3.9.19"
  }
 },
 "nbformat": 4,
 "nbformat_minor": 2
}
