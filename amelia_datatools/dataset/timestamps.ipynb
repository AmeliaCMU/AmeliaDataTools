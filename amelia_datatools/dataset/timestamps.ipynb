{
 "cells": [
  {
   "cell_type": "code",
   "execution_count": 16,
   "metadata": {},
   "outputs": [],
   "source": [
    "import os\n",
    "import numpy as np\n",
    "import random\n",
    "\n",
    "from datetime import datetime"
   ]
  },
  {
   "cell_type": "code",
   "execution_count": 15,
   "metadata": {},
   "outputs": [],
   "source": [
    "AIRPORT = \"ksea\"\n",
    "BASE_DIR = '../../datasets/swim'\n",
    "TRAJ_DIR = os.path.join(BASE_DIR, 'raw_trajectories', f'{AIRPORT}')"
   ]
  },
  {
   "cell_type": "code",
   "execution_count": 29,
   "metadata": {},
   "outputs": [],
   "source": [
    "trajectory_files = np.asarray([f for f in os.listdir(TRAJ_DIR)])\n",
    "unix_times = [int(f.split('.')[0].split('_')[-1]) for f in trajectory_files]\n",
    "\n",
    "# Get the month of each file\n",
    "utc_times = np.asarray([\n",
    "    datetime.utcfromtimestamp(ut)\n",
    "            .month\n",
    "          # .strftime('%Y-%m-%d %H:%M:%S') \n",
    "    for ut in unix_times])\n",
    "\n",
    "# Get unique months\n",
    "months = np.unique(utc_times)\n",
    "num_months = months.shape[0]"
   ]
  },
  {
   "cell_type": "code",
   "execution_count": 30,
   "metadata": {},
   "outputs": [
    {
     "name": "stdout",
     "output_type": "stream",
     "text": [
      "Months: [1 2]\n",
      "Seen Months: [2]\n",
      "Unseen Months: [1]\n"
     ]
    }
   ],
   "source": [
    "# Select months for training/validation and for testing\n",
    "seen_months = np.random.choice(months, size=int(0.75 * num_months), replace=False)\n",
    "unseen_months = list(set(months.tolist()).symmetric_difference(seen_months.tolist()))\n",
    "\n",
    "print(f\"Months: {months}\\nSeen Months: {seen_months}\\nUnseen Months: {unseen_months}\")"
   ]
  },
  {
   "cell_type": "code",
   "execution_count": 31,
   "metadata": {},
   "outputs": [],
   "source": [
    "seen_idx = np.in1d(utc_times, seen_months)\n",
    "seen_files = trajectory_files[seen_idx]\n",
    "\n",
    "unseen_idx = np.in1d(utc_times, unseen_months)\n",
    "unseen_files = trajectory_files[unseen_idx]"
   ]
  }
 ],
 "metadata": {
  "kernelspec": {
   "display_name": "boeing-tf",
   "language": "python",
   "name": "python3"
  },
  "language_info": {
   "codemirror_mode": {
    "name": "ipython",
    "version": 3
   },
   "file_extension": ".py",
   "mimetype": "text/x-python",
   "name": "python",
   "nbconvert_exporter": "python",
   "pygments_lexer": "ipython3",
   "version": "3.9.16"
  }
 },
 "nbformat": 4,
 "nbformat_minor": 2
}
