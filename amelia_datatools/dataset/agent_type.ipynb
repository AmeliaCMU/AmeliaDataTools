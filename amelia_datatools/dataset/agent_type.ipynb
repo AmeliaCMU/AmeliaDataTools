{
 "cells": [
  {
   "cell_type": "code",
   "execution_count": 16,
   "metadata": {},
   "outputs": [],
   "source": [
    "import json\n",
    "import numpy as np\n",
    "import os \n",
    "import pandas as pd\n",
    "\n",
    "from tqdm import tqdm\n",
    "\n",
    "OUT_DIR = \"./out/type\"\n",
    "os.makedirs(OUT_DIR, exist_ok=True)\n"
   ]
  },
  {
   "cell_type": "code",
   "execution_count": 17,
   "metadata": {},
   "outputs": [
    {
     "name": "stdout",
     "output_type": "stream",
     "text": [
      "../../datasets/swim/raw_trajectories/ksea/KSEA_389_1673928000.csv\n"
     ]
    },
    {
     "data": {
      "text/html": [
       "<div>\n",
       "<style scoped>\n",
       "    .dataframe tbody tr th:only-of-type {\n",
       "        vertical-align: middle;\n",
       "    }\n",
       "\n",
       "    .dataframe tbody tr th {\n",
       "        vertical-align: top;\n",
       "    }\n",
       "\n",
       "    .dataframe thead th {\n",
       "        text-align: right;\n",
       "    }\n",
       "</style>\n",
       "<table border=\"1\" class=\"dataframe\">\n",
       "  <thead>\n",
       "    <tr style=\"text-align: right;\">\n",
       "      <th></th>\n",
       "      <th>Frame</th>\n",
       "      <th>ID</th>\n",
       "      <th>Altitude</th>\n",
       "      <th>Speed</th>\n",
       "      <th>Heading</th>\n",
       "      <th>Lat</th>\n",
       "      <th>Lon</th>\n",
       "      <th>Range</th>\n",
       "      <th>Bearing</th>\n",
       "      <th>Type</th>\n",
       "      <th>x</th>\n",
       "      <th>y</th>\n",
       "    </tr>\n",
       "  </thead>\n",
       "  <tbody>\n",
       "    <tr>\n",
       "      <th>0</th>\n",
       "      <td>0</td>\n",
       "      <td>3838039</td>\n",
       "      <td>431.250</td>\n",
       "      <td>19.0</td>\n",
       "      <td>1.133789</td>\n",
       "      <td>47.445572</td>\n",
       "      <td>-122.306294</td>\n",
       "      <td>0.414762</td>\n",
       "      <td>-2.643944</td>\n",
       "      <td>0.0</td>\n",
       "      <td>-0.364454</td>\n",
       "      <td>-0.197991</td>\n",
       "    </tr>\n",
       "    <tr>\n",
       "      <th>1</th>\n",
       "      <td>0</td>\n",
       "      <td>3838156</td>\n",
       "      <td>431.250</td>\n",
       "      <td>12.6</td>\n",
       "      <td>198.216431</td>\n",
       "      <td>47.449816</td>\n",
       "      <td>-122.304810</td>\n",
       "      <td>0.137617</td>\n",
       "      <td>-0.675578</td>\n",
       "      <td>2.0</td>\n",
       "      <td>0.107389</td>\n",
       "      <td>-0.086059</td>\n",
       "    </tr>\n",
       "    <tr>\n",
       "      <th>2</th>\n",
       "      <td>0</td>\n",
       "      <td>3838073</td>\n",
       "      <td>431.250</td>\n",
       "      <td>17.3</td>\n",
       "      <td>146.458740</td>\n",
       "      <td>47.440690</td>\n",
       "      <td>-122.310184</td>\n",
       "      <td>1.031765</td>\n",
       "      <td>-2.645155</td>\n",
       "      <td>0.0</td>\n",
       "      <td>-0.907215</td>\n",
       "      <td>-0.491426</td>\n",
       "    </tr>\n",
       "    <tr>\n",
       "      <th>3</th>\n",
       "      <td>0</td>\n",
       "      <td>3837950</td>\n",
       "      <td>431.250</td>\n",
       "      <td>8.6</td>\n",
       "      <td>264.688110</td>\n",
       "      <td>47.463706</td>\n",
       "      <td>-122.307650</td>\n",
       "      <td>1.678735</td>\n",
       "      <td>-0.179768</td>\n",
       "      <td>0.0</td>\n",
       "      <td>1.651683</td>\n",
       "      <td>-0.300159</td>\n",
       "    </tr>\n",
       "    <tr>\n",
       "      <th>4</th>\n",
       "      <td>0</td>\n",
       "      <td>3838107</td>\n",
       "      <td>429.375</td>\n",
       "      <td>79.0</td>\n",
       "      <td>180.452637</td>\n",
       "      <td>47.443888</td>\n",
       "      <td>-122.307954</td>\n",
       "      <td>0.639378</td>\n",
       "      <td>-2.611640</td>\n",
       "      <td>0.0</td>\n",
       "      <td>-0.551675</td>\n",
       "      <td>-0.323201</td>\n",
       "    </tr>\n",
       "  </tbody>\n",
       "</table>\n",
       "</div>"
      ],
      "text/plain": [
       "   Frame       ID  Altitude  Speed     Heading        Lat         Lon   \n",
       "0      0  3838039   431.250   19.0    1.133789  47.445572 -122.306294  \\\n",
       "1      0  3838156   431.250   12.6  198.216431  47.449816 -122.304810   \n",
       "2      0  3838073   431.250   17.3  146.458740  47.440690 -122.310184   \n",
       "3      0  3837950   431.250    8.6  264.688110  47.463706 -122.307650   \n",
       "4      0  3838107   429.375   79.0  180.452637  47.443888 -122.307954   \n",
       "\n",
       "      Range   Bearing  Type         x         y  \n",
       "0  0.414762 -2.643944   0.0 -0.364454 -0.197991  \n",
       "1  0.137617 -0.675578   2.0  0.107389 -0.086059  \n",
       "2  1.031765 -2.645155   0.0 -0.907215 -0.491426  \n",
       "3  1.678735 -0.179768   0.0  1.651683 -0.300159  \n",
       "4  0.639378 -2.611640   0.0 -0.551675 -0.323201  "
      ]
     },
     "execution_count": 17,
     "metadata": {},
     "output_type": "execute_result"
    }
   ],
   "source": [
    "AIRPORT = \"ksea\"\n",
    "BASE_DIR = '../../datasets/swim'\n",
    "\n",
    "TRAJ_DIR = os.path.join(BASE_DIR, 'raw_trajectories', f'{AIRPORT}')\n",
    "\n",
    "traj_files = [os.path.join(TRAJ_DIR, f) for f in os.listdir(TRAJ_DIR)]\n",
    "print(traj_files[0])\n",
    "\n",
    "data = pd.read_csv(traj_files[0])\n",
    "data.head()"
   ]
  },
  {
   "cell_type": "code",
   "execution_count": 18,
   "metadata": {},
   "outputs": [
    {
     "name": "stderr",
     "output_type": "stream",
     "text": [
      "100%|██████████| 1398/1398 [06:38<00:00,  3.51it/s]\n"
     ]
    }
   ],
   "source": [
    "agent_types = {}\n",
    "total_count = 0\n",
    "for f in tqdm(traj_files):\n",
    "    data = pd.read_csv(f)\n",
    "\n",
    "    unique_IDs = np.unique(data.ID)\n",
    "    for ID in unique_IDs:\n",
    "        atype = data[data.ID == ID].Type.astype(int)\n",
    "        atype = atype[np.diff(atype, prepend=np.nan).astype(bool)].astype(str).tolist()\n",
    "        key = ''.join(atype)\n",
    "\n",
    "        if agent_types.get(key) is None:\n",
    "            agent_types[key] = 0\n",
    "            key_p = f\"{key}_perc\"\n",
    "            agent_types[key_p] = 0.0\n",
    "            \n",
    "        agent_types[key] += 1\n",
    "        total_count += 1\n",
    "    "
   ]
  },
  {
   "cell_type": "code",
   "execution_count": 19,
   "metadata": {},
   "outputs": [],
   "source": [
    "\n",
    "for k, v in agent_types.items():\n",
    "    if \"perc\" in k: continue\n",
    "    kp = f\"{k}_perc\"\n",
    "    agent_types[kp] = round(v / total_count, 3)\n",
    "\n",
    "agent_types['total'] = total_count"
   ]
  },
  {
   "cell_type": "code",
   "execution_count": 20,
   "metadata": {},
   "outputs": [],
   "source": [
    "with open(f'{OUT_DIR}/{AIRPORT}.json', 'w') as f:\n",
    "    json.dump(agent_types, f, indent=2)"
   ]
  }
 ],
 "metadata": {
  "kernelspec": {
   "display_name": "boeing-tf",
   "language": "python",
   "name": "python3"
  },
  "language_info": {
   "codemirror_mode": {
    "name": "ipython",
    "version": 3
   },
   "file_extension": ".py",
   "mimetype": "text/x-python",
   "name": "python",
   "nbconvert_exporter": "python",
   "pygments_lexer": "ipython3",
   "version": "3.9.16"
  }
 },
 "nbformat": 4,
 "nbformat_minor": 2
}
