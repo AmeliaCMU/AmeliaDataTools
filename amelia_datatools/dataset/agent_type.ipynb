{
 "cells": [
  {
   "cell_type": "code",
   "execution_count": null,
   "metadata": {},
   "outputs": [],
   "source": [
    "import json\n",
    "import numpy as np\n",
    "import os\n",
    "import pandas as pd\n",
    "\n",
    "from tqdm import tqdm\n",
    "\n",
    "out_dir = \"../../output/type\"\n",
    "os.makedirs(out_dir, exist_ok=True)\n"
   ]
  },
  {
   "cell_type": "code",
   "execution_count": null,
   "metadata": {},
   "outputs": [],
   "source": [
    "airport = \"ksea\"\n",
    "base_dir = '../../datasets/amelia'\n",
    "traj_version = 'a10v08'\n",
    "\n",
    "\n",
    "traj_dir = os.path.join(base_dir, f'traj_data_{traj_version}', 'raw_trajectories', f'{airport}')\n",
    "\n",
    "\n",
    "traj_files = [os.path.join(traj_dir, f) for f in os.listdir(traj_dir)]\n",
    "print(traj_files[0])\n",
    "\n",
    "data = pd.read_csv(traj_files[0])\n",
    "data.head()"
   ]
  },
  {
   "cell_type": "code",
   "execution_count": null,
   "metadata": {},
   "outputs": [],
   "source": [
    "agent_types = {}\n",
    "total_count = 0\n",
    "for f in tqdm(traj_files):\n",
    "    data = pd.read_csv(f)\n",
    "\n",
    "    unique_IDs = np.unique(data.ID)\n",
    "    for ID in unique_IDs:\n",
    "        atype = data[data.ID == ID].Type.astype(int)\n",
    "        atype = atype[np.diff(atype, prepend=np.nan).astype(bool)].astype(str).tolist()\n",
    "        key = ''.join(atype)\n",
    "\n",
    "        if agent_types.get(key) is None:\n",
    "            agent_types[key] = 0\n",
    "            key_p = f\"{key}_perc\"\n",
    "            agent_types[key_p] = 0.0\n",
    "\n",
    "        agent_types[key] += 1\n",
    "        total_count += 1\n"
   ]
  },
  {
   "cell_type": "code",
   "execution_count": null,
   "metadata": {},
   "outputs": [],
   "source": [
    "\n",
    "for k, v in agent_types.items():\n",
    "    if \"perc\" in k: continue\n",
    "    kp = f\"{k}_perc\"\n",
    "    agent_types[kp] = round(v / total_count, 3)\n",
    "\n",
    "agent_types['total'] = total_count"
   ]
  },
  {
   "cell_type": "code",
   "execution_count": null,
   "metadata": {},
   "outputs": [],
   "source": [
    "with open(f'{out_dir}/{airport}.json', 'w') as f:\n",
    "    json.dump(agent_types, f, indent=2)"
   ]
  }
 ],
 "metadata": {
  "kernelspec": {
   "display_name": "boeing-tf",
   "language": "python",
   "name": "python3"
  },
  "language_info": {
   "codemirror_mode": {
    "name": "ipython",
    "version": 3
   },
   "file_extension": ".py",
   "mimetype": "text/x-python",
   "name": "python",
   "nbconvert_exporter": "python",
   "pygments_lexer": "ipython3",
   "version": "3.9.19"
  }
 },
 "nbformat": 4,
 "nbformat_minor": 2
}
