{
 "cells": [
  {
   "cell_type": "code",
   "execution_count": 1,
   "metadata": {},
   "outputs": [],
   "source": [
    "\n",
    "import seaborn as sns\n",
    "import pandas as pd\n",
    "import matplotlib.pyplot as plt\n",
    "import numpy as np\n",
    "import os\n",
    "import pickle\n",
    "\n",
    "from tqdm import tqdm\n",
    "\n",
    "import amelia_datatools.utils.common as C\n",
    "from amelia_datatools.utils.utils import get_airport_list\n",
    "\n",
    "\n",
    "out_dir = f\"{C.OUTPUT_DIR}/crowdedness\"\n",
    "os.makedirs(out_dir, exist_ok=True)"
   ]
  },
  {
   "cell_type": "code",
   "execution_count": 2,
   "metadata": {},
   "outputs": [
    {
     "data": {
      "text/plain": [
       "14"
      ]
     },
     "execution_count": 2,
     "metadata": {},
     "output_type": "execute_result"
    }
   ],
   "source": [
    "airports = get_airport_list()\n",
    "num_airports = len(airports)\n",
    "num_airports"
   ]
  },
  {
   "cell_type": "code",
   "execution_count": 3,
   "metadata": {},
   "outputs": [
    {
     "name": "stderr",
     "output_type": "stream",
     "text": [
      "100%|██████████| 24/24 [00:00<00:00, 72.36it/s]\n",
      "100%|██████████| 24/24 [00:00<00:00, 59.10it/s]\n",
      "100%|██████████| 24/24 [00:00<00:00, 63.86it/s]\n",
      "100%|██████████| 24/24 [00:00<00:00, 65.06it/s]\n",
      "100%|██████████| 24/24 [00:00<00:00, 64.76it/s]\n",
      "100%|██████████| 24/24 [00:00<00:00, 64.04it/s]\n",
      "100%|██████████| 24/24 [00:00<00:00, 63.07it/s]\n",
      "100%|██████████| 24/24 [00:00<00:00, 61.37it/s]\n",
      "100%|██████████| 24/24 [00:00<00:00, 47.80it/s]\n",
      "100%|██████████| 24/24 [00:00<00:00, 54.13it/s]\n",
      "100%|██████████| 24/24 [00:00<00:00, 60.28it/s]\n",
      "100%|██████████| 24/24 [00:00<00:00, 276.44it/s]\n",
      "100%|██████████| 24/24 [00:00<00:00, 70.78it/s]\n",
      "100%|██████████| 24/24 [00:00<00:00, 57.45it/s]\n"
     ]
    },
    {
     "name": "stdout",
     "output_type": "stream",
     "text": [
      "Saving in:  /Users/alonso.cano/Developer/CMU/Amelia/AmeliaDataTools/output/crowdedness/crowdedness_boxplots.png\n"
     ]
    }
   ],
   "source": [
    "fig, ax = plt.subplots(num_airports, 1, figsize=(8, 8*num_airports))\n",
    "fontcolor = 'dimgray'\n",
    "for na, airport in enumerate(airports):\n",
    "    crowdedness_file = os.path.join(out_dir, f'{airport}.pkl')\n",
    "    if not os.path.exists(crowdedness_file):\n",
    "        print(f\"File {crowdedness_file} does not exist. Skipping...\")\n",
    "        continue\n",
    "    with open(crowdedness_file, 'rb') as f:\n",
    "        x = pickle.load(f)\n",
    "    hour = np.zeros(shape=(len(x.keys())))\n",
    "    min_agents = np.zeros(shape=(len(x.keys())))\n",
    "    mean_agents = np.zeros(shape=(len(x.keys())))\n",
    "    max_agents = np.zeros(shape=(len(x.keys())))\n",
    "    median_agents = np.zeros(shape=(len(x.keys())))\n",
    "    for i, (k, v) in enumerate(x.items()):\n",
    "\n",
    "        hour[i] = int(k)\n",
    "        if len(v) == 0:\n",
    "            v = [0]\n",
    "        v = np.asarray(v)\n",
    "        min_agents[i] = v.min()\n",
    "        mean_agents[i] = v.mean()\n",
    "        max_agents[i] = v.max()\n",
    "        median_agents[i] = np.median(v)\n",
    "\n",
    "    if airport not in C.AIRPORT_COLORMAP:\n",
    "        C.AIRPORT_COLORMAP[airport] = \"black\"\n",
    "    color = C.AIRPORT_COLORMAP[airport]\n",
    "    ax[na].plot(hour, min_agents, color=color, alpha=0.1)\n",
    "    ax[na].plot(\n",
    "        hour,\n",
    "        max_agents,\n",
    "        color=color,\n",
    "        alpha=0.3,\n",
    "        label=airport.upper(),\n",
    "        linewidth=3\n",
    "    )\n",
    "    ax[na].fill_between(\n",
    "        hour,\n",
    "        min_agents,\n",
    "        max_agents,\n",
    "        interpolate=False,\n",
    "        color=color,\n",
    "        alpha=0.05\n",
    "    )\n",
    "\n",
    "    data = {'time': [], 'num_agents': []}\n",
    "    for time, num_agents_arr in tqdm(x.items()):\n",
    "        for num_agents in num_agents_arr:\n",
    "            data['time'].append(int(time))\n",
    "            data['num_agents'].append(num_agents)\n",
    "    df = pd.DataFrame(data)\n",
    "\n",
    "\n",
    "    sns.boxplot(\n",
    "        data=data,\n",
    "        x=\"time\",\n",
    "        y=\"num_agents\",\n",
    "        color=color,\n",
    "        medianprops={\"color\": color, \"linewidth\": 4},\n",
    "        showfliers=False,\n",
    "        boxprops=dict(alpha=0.6),\n",
    "        zorder=100,\n",
    "        ax=ax[na]\n",
    "    )\n",
    "    ax[na].set_xticks(np.arange(hour.min(), hour.max()+1, 4))\n",
    "    ax[na].legend(loc='upper right', labelcolor=fontcolor, fontsize=20)\n",
    "    ax[na].set(xlabel=None)\n",
    "ax[-1].set_xlabel('Time of Day', color=fontcolor, fontsize=20)\n",
    "\n",
    "for a in ax:\n",
    "    a.tick_params(color=fontcolor, labelcolor=fontcolor)\n",
    "    for spine in a.spines.values():\n",
    "        spine.set_edgecolor('gray')\n",
    "        a.set_ylabel('Number of Aircraft', color=fontcolor, fontsize=20)\n",
    "\n",
    "plt.savefig(f\"{out_dir}/crowdedness_boxplots.png\", dpi=400, bbox_inches='tight')\n",
    "print(\"Saving in: \", f\"{out_dir}/crowdedness_boxplots.png\",)\n",
    "plt.close()"
   ]
  },
  {
   "cell_type": "code",
   "execution_count": null,
   "metadata": {},
   "outputs": [
    {
     "ename": "TypeError",
     "evalue": "list indices must be integers or slices, not str",
     "output_type": "error",
     "traceback": [
      "\u001b[0;31m---------------------------------------------------------------------------\u001b[0m",
      "\u001b[0;31mTypeError\u001b[0m                                 Traceback (most recent call last)",
      "Cell \u001b[0;32mIn[4], line 43\u001b[0m\n\u001b[1;32m     38\u001b[0m     \u001b[38;5;28;01mif\u001b[39;00m airport \u001b[38;5;241m==\u001b[39m ap1:\n\u001b[1;32m     39\u001b[0m         ax\u001b[38;5;241m.\u001b[39mplot(\n\u001b[1;32m     40\u001b[0m             time, mean_agents, color\u001b[38;5;241m=\u001b[39m\u001b[38;5;124m'\u001b[39m\u001b[38;5;124mwhite\u001b[39m\u001b[38;5;124m'\u001b[39m, linewidth\u001b[38;5;241m=\u001b[39m\u001b[38;5;241m2\u001b[39m, linestyle\u001b[38;5;241m=\u001b[39m\u001b[38;5;124m'\u001b[39m\u001b[38;5;124m--\u001b[39m\u001b[38;5;124m'\u001b[39m, alpha\u001b[38;5;241m=\u001b[39malpha,\n\u001b[1;32m     41\u001b[0m             zorder\u001b[38;5;241m=\u001b[39morder\u001b[38;5;241m+\u001b[39m\u001b[38;5;241m100\u001b[39m)\n\u001b[1;32m     42\u001b[0m     ax\u001b[38;5;241m.\u001b[39mfill_between(\n\u001b[0;32m---> 43\u001b[0m         time, min_agents, max_agents, interpolate\u001b[38;5;241m=\u001b[39m\u001b[38;5;28;01mFalse\u001b[39;00m, color\u001b[38;5;241m=\u001b[39m\u001b[43mairports\u001b[49m\u001b[43m[\u001b[49m\u001b[43mairport\u001b[49m\u001b[43m]\u001b[49m, alpha\u001b[38;5;241m=\u001b[39malpha)\n\u001b[1;32m     45\u001b[0m plt\u001b[38;5;241m.\u001b[39mxticks(np\u001b[38;5;241m.\u001b[39marange(time\u001b[38;5;241m.\u001b[39mmin(), time\u001b[38;5;241m.\u001b[39mmax()\u001b[38;5;241m+\u001b[39m\u001b[38;5;241m1\u001b[39m, \u001b[38;5;241m2\u001b[39m))\n\u001b[1;32m     46\u001b[0m plt\u001b[38;5;241m.\u001b[39mtitle(\u001b[38;5;124mf\u001b[39m\u001b[38;5;124m\"\u001b[39m\u001b[38;5;124mCrowdedness \u001b[39m\u001b[38;5;132;01m{\u001b[39;00map1\u001b[38;5;241m.\u001b[39mupper()\u001b[38;5;132;01m}\u001b[39;00m\u001b[38;5;124m\"\u001b[39m)\n",
      "\u001b[0;31mTypeError\u001b[0m: list indices must be integers or slices, not str"
     ]
    },
    {
     "data": {
      "image/png": "[encoded data removed]",
      "text/plain": [
       "<Figure size 800x800 with 1 Axes>"
      ]
     },
     "metadata": {},
     "output_type": "display_data"
    }
   ],
   "source": [
    "for ap1 in airports:\n",
    "    fig, ax = plt.subplots(figsize=(8, 8))\n",
    "    for airport in airports:\n",
    "\n",
    "        crowdedness_file = os.path.join(out_dir, f'{airport}.pkl')\n",
    "        if not os.path.exists(crowdedness_file):\n",
    "            print(f\"File {crowdedness_file} does not exist. Skipping...\")\n",
    "            continue\n",
    "\n",
    "        with open(crowdedness_file, 'rb') as f:\n",
    "            x = pickle.load(f)\n",
    "\n",
    "        time = np.zeros(shape=(len(x.keys())))\n",
    "        min_agents = np.zeros(shape=(len(x.keys())))\n",
    "        mean_agents = np.zeros(shape=(len(x.keys())))\n",
    "        max_agents = np.zeros(shape=(len(x.keys())))\n",
    "        median_agents = np.zeros(shape=(len(x.keys())))\n",
    "\n",
    "        for i, (k, v) in enumerate(x.items()):\n",
    "            time[i] = int(k)\n",
    "            if len(v) == 0:\n",
    "                v = [0]\n",
    "            v = np.asarray(v)\n",
    "            min_agents[i] = v.min()\n",
    "            mean_agents[i] = v.mean()\n",
    "            max_agents[i] = v.max()\n",
    "            median_agents[i] = np.median(v)\n",
    "\n",
    "        alpha = 1.0 if airport == ap1 else 0.25\n",
    "        order = 1000 if airport == ap1 else 1\n",
    "\n",
    "        if airport not in C.AIRPORT_COLORMAP:\n",
    "            C.AIRPORT_COLORMAP[airport] = \"black\"\n",
    "        color = C.AIRPORT_COLORMAP[airport]\n",
    "\n",
    "        ax.plot(time, min_agents, color=color, alpha=alpha, zorder=order)\n",
    "        ax.plot(time, max_agents, color=color, alpha=alpha, zorder=order)\n",
    "        if airport == ap1:\n",
    "            ax.plot(\n",
    "                time, mean_agents, color='white', linewidth=2, linestyle='--', alpha=alpha,\n",
    "                zorder=order+100)\n",
    "        ax.fill_between(\n",
    "            time, min_agents, max_agents, interpolate=False, color=color, alpha=alpha)\n",
    "\n",
    "    plt.xticks(np.arange(time.min(), time.max()+1, 2))\n",
    "    plt.title(f\"Crowdedness {ap1.upper()}\")\n",
    "    plt.savefig(f\"{out_dir}/{ap1}_areaplots.png\", dpi=600, bbox_inches='tight')\n",
    "    plt.close()"
   ]
  }
 ],
 "metadata": {
  "kernelspec": {
   "display_name": "amelia",
   "language": "python",
   "name": "python3"
  },
  "language_info": {
   "codemirror_mode": {
    "name": "ipython",
    "version": 3
   },
   "file_extension": ".py",
   "mimetype": "text/x-python",
   "name": "python",
   "nbconvert_exporter": "python",
   "pygments_lexer": "ipython3",
   "version": "3.9.20"
  }
 },
 "nbformat": 4,
 "nbformat_minor": 2
}
