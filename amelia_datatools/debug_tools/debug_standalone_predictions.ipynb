{
 "cells": [
  {
   "cell_type": "code",
   "execution_count": 5,
   "metadata": {},
   "outputs": [],
   "source": [
    "import numpy as np\n",
    "import os \n",
    "import matplotlib.pyplot as plt \n",
    "\n",
    "from tqdm import tqdm \n",
    "from natsort import natsorted\n",
    "\n",
    "np.set_printoptions(precision=5, suppress=True)"
   ]
  },
  {
   "cell_type": "code",
   "execution_count": 6,
   "metadata": {},
   "outputs": [],
   "source": [
    "PREDICTION_DIR = \"../swim/debug_data/csv1_agent_3683/info/\"\n",
    "files = [os.path.join(PREDICTION_DIR, f) for f in natsorted(os.listdir(PREDICTION_DIR))]\n",
    "# files"
   ]
  },
  {
   "cell_type": "code",
   "execution_count": 7,
   "metadata": {},
   "outputs": [],
   "source": [
    "def unpack(file):\n",
    "    data = np.load(file)\n",
    "    return (\n",
    "        data['arr_0'], data['arr_1'], data['arr_2'], data['arr_3'], data['arr_4'], data['arr_5'], \n",
    "        data['arr_6'], data['arr_7']\n",
    "    )"
   ]
  },
  {
   "cell_type": "code",
   "execution_count": 8,
   "metadata": {},
   "outputs": [
    {
     "name": "stderr",
     "output_type": "stream",
     "text": [
      "287it [01:36,  2.96it/s]\n"
     ]
    }
   ],
   "source": [
    "for i, file in tqdm(enumerate(files)):\n",
    "    X, x_abs, x_rel, context, gt_traj, pred_traj, pred_scores, sigmas = unpack(file)\n",
    "    \n",
    "    plt.plot(gt_traj[0, :, 2], gt_traj[0, :, 1], color='black', label='Ground Truth History')\n",
    "    plt.plot(pred_traj[0, :, 0, 1], pred_traj[0, :, 0, 0], color='red', linewidth=1, linestyle='--', label='Mode 0')\n",
    "    plt.plot(pred_traj[0, :, 1, 1], pred_traj[0, :, 1, 0], color='orange', linewidth=1, linestyle='--', label='Mode 1')\n",
    "    plt.plot(pred_traj[0, :, 2, 1], pred_traj[0, :, 2, 0], color='pink', linewidth=1, linestyle='--', label='Mode 2')\n",
    "    plt.plot(pred_traj[0, :, 3, 1], pred_traj[0, :, 3, 0], color='purple', linewidth=1, linestyle='--', label='Mode 3')\n",
    "    plt.legend()\n",
    "    plt.savefig(f\"../swim/debug_data/csv1_agent_3683/info_out/frame_{i}.png\", dpi=500)\n",
    "    plt.close()"
   ]
  },
  {
   "cell_type": "code",
   "execution_count": null,
   "metadata": {},
   "outputs": [],
   "source": []
  }
 ],
 "metadata": {
  "kernelspec": {
   "display_name": "boeing",
   "language": "python",
   "name": "python3"
  },
  "language_info": {
   "codemirror_mode": {
    "name": "ipython",
    "version": 3
   },
   "file_extension": ".py",
   "mimetype": "text/x-python",
   "name": "python",
   "nbconvert_exporter": "python",
   "pygments_lexer": "ipython3",
   "version": "3.9.16"
  },
  "orig_nbformat": 4
 },
 "nbformat": 4,
 "nbformat_minor": 2
}
