{
 "cells": [
  {
   "cell_type": "markdown",
   "metadata": {},
   "source": [
    "# Traj-Pred Debugging"
   ]
  },
  {
   "cell_type": "markdown",
   "metadata": {},
   "source": [
    "Utils for loading and visualization the input and output information of a given test run."
   ]
  },
  {
   "cell_type": "code",
   "execution_count": null,
   "metadata": {},
   "outputs": [],
   "source": [
    "! pip install shapely\n",
    "! pip install geopy\n",
    "\n",
    "import os\n",
    "import torch\n",
    "import random\n",
    "from tqdm import tqdm\n",
    "import numpy as np\n",
    "from matplotlib import cm\n",
    "import matplotlib.pyplot as plt\n",
    "from graph_construction.graph_utils import plot_context"
   ]
  },
  {
   "cell_type": "code",
   "execution_count": null,
   "metadata": {},
   "outputs": [],
   "source": [
    "def get_batch_distribution(batch):\n",
    "    unique_values, counts = np.unique(batch['airport'], return_counts=True)\n",
    "    # Print the results\n",
    "    for value, count in zip(unique_values, counts):\n",
    "        print(f\"{value} occurs {count} times\")\n",
    "    return (unique_values, counts)"
   ]
  },
  {
   "cell_type": "code",
   "execution_count": null,
   "metadata": {},
   "outputs": [],
   "source": [
    "def plot_batch(num_to_visualize, batch, tag, OUT_DIR):\n",
    "    HEADS = 4\n",
    "    context = batch['context']\n",
    "    trajectories =  batch['Y']\n",
    "    predictions = batch['mu'][:,:,:,:]\n",
    "    scores = batch['pred_scores']\n",
    "    for b in range(num_to_visualize):\n",
    "        airport = batch['airport'][b]\n",
    "        _, map_plot = plt.subplots() \n",
    "        patch = context[b]\n",
    "        traj  = trajectories[b]\n",
    "        if(airport != 'ksea'): continue\n",
    "        map_plot.scatter(traj[:,1], traj[:,0], marker='.', color='r')\n",
    "        pred  = predictions[b, : ,: ,:]\n",
    "        pred_scores = scores[b, :]\n",
    "        for h in range(HEADS):\n",
    "            confidence = pred_scores[h]\n",
    "            map_plot.scatter(pred[:10,h,1], pred[:10,h,0], marker='.', c = cm.winter(confidence), alpha=0.25, s=18, label = f\"H : {h} K: {confidence}\")\n",
    "            map_plot.scatter(pred[10:,h,1], pred[10:,h,0], marker='.', color= cm.winter(confidence), alpha=0.25, s=18)\n",
    "        plot_context(context = patch, ax = map_plot)\n",
    "        plt.legend()\n",
    "        plt.savefig(f'{OUT_DIR}/{tag}_{b}_{airport}.png',dpi=400)\n",
    "        plt.show(block = False)"
   ]
  },
  {
   "cell_type": "code",
   "execution_count": null,
   "metadata": {},
   "outputs": [],
   "source": [
    "LOG_DIR = \"out_traj_aircraft\"\n",
    "batch_list = files = os.listdir(LOG_DIR)"
   ]
  },
  {
   "cell_type": "code",
   "execution_count": null,
   "metadata": {},
   "outputs": [],
   "source": [
    "test_file = random.choice(batch_list)\n",
    "print(f'Testing for {LOG_DIR}/{test_file}')\n",
    "batch = np.load(f'{LOG_DIR}/{test_file}')\n",
    "batch.files"
   ]
  },
  {
   "cell_type": "code",
   "execution_count": null,
   "metadata": {},
   "outputs": [],
   "source": [
    "batch['pred_scores'].shape"
   ]
  },
  {
   "cell_type": "code",
   "execution_count": null,
   "metadata": {},
   "outputs": [],
   "source": [
    "dist = get_batch_distribution(batch)"
   ]
  }
 ],
 "metadata": {
  "kernelspec": {
   "display_name": "graph-maps",
   "language": "python",
   "name": "python3"
  },
  "language_info": {
   "codemirror_mode": {
    "name": "ipython",
    "version": 3
   },
   "file_extension": ".py",
   "mimetype": "text/x-python",
   "name": "python",
   "nbconvert_exporter": "python",
   "pygments_lexer": "ipython3",
   "version": "3.11.3"
  }
 },
 "nbformat": 4,
 "nbformat_minor": 2
}
