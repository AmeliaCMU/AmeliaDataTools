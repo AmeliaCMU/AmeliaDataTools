{
 "cells": [
  {
   "cell_type": "code",
   "execution_count": 1,
   "metadata": {},
   "outputs": [],
   "source": [
    "import json\n",
    "import os \n",
    "import pandas as pd\n",
    "\n",
    "from tqdm import tqdm"
   ]
  },
  {
   "cell_type": "code",
   "execution_count": 2,
   "metadata": {},
   "outputs": [],
   "source": [
    "import math \n",
    "\n",
    "class RunningStats:    \n",
    "    def __init__(self):\n",
    "        self.n = 0\n",
    "        self.old_m = 0\n",
    "        self.new_m = 0\n",
    "        self.old_s = 0\n",
    "        self.new_s = 0\n",
    "\n",
    "    def clear(self):\n",
    "        self.n = 0\n",
    "\n",
    "    def push(self, x):\n",
    "        self.n += 1\n",
    "\n",
    "        if self.n == 1:\n",
    "            self.old_m = self.new_m = x\n",
    "            self.old_s = 0\n",
    "        else:\n",
    "            self.new_m = self.old_m + (x - self.old_m) / self.n\n",
    "            self.new_s = self.old_s + (x - self.old_m) * (x - self.new_m)\n",
    "\n",
    "            self.old_m = self.new_m\n",
    "            self.old_s = self.new_s\n",
    "\n",
    "    def mean(self):\n",
    "        return self.new_m if self.n else 0.0\n",
    "\n",
    "    def variance(self):\n",
    "        return self.new_s / (self.n - 1) if self.n > 1 else 0.0\n",
    "\n",
    "    def std(self):\n",
    "        return math.sqrt(self.variance())"
   ]
  },
  {
   "cell_type": "code",
   "execution_count": 4,
   "metadata": {},
   "outputs": [
    {
     "name": "stdout",
     "output_type": "stream",
     "text": [
      "Running: KBOS\n",
      "\tFound 24 trajectory files in ../../datasets/amelia/traj_data_a10v5/raw_trajectories/kbos\n"
     ]
    },
    {
     "name": "stderr",
     "output_type": "stream",
     "text": [
      "100%|██████████| 24/24 [00:12<00:00,  1.95it/s]\n"
     ]
    },
    {
     "name": "stdout",
     "output_type": "stream",
     "text": [
      "\tUpdating limits to reference file in: ../../datasets/amelia/assets/kbos/limits.json\n",
      "Running: KDCA\n",
      "\tFound 24 trajectory files in ../../datasets/amelia/traj_data_a10v5/raw_trajectories/kdca\n"
     ]
    },
    {
     "name": "stderr",
     "output_type": "stream",
     "text": [
      "100%|██████████| 24/24 [00:08<00:00,  2.83it/s]\n"
     ]
    },
    {
     "name": "stdout",
     "output_type": "stream",
     "text": [
      "\tUpdating limits to reference file in: ../../datasets/amelia/assets/kdca/limits.json\n",
      "Running: KEWR\n",
      "\tFound 24 trajectory files in ../../datasets/amelia/traj_data_a10v5/raw_trajectories/kewr\n"
     ]
    },
    {
     "name": "stderr",
     "output_type": "stream",
     "text": [
      "100%|██████████| 24/24 [00:16<00:00,  1.50it/s]\n"
     ]
    },
    {
     "name": "stdout",
     "output_type": "stream",
     "text": [
      "\tUpdating limits to reference file in: ../../datasets/amelia/assets/kewr/limits.json\n",
      "Running: KJFK\n",
      "\tFound 24 trajectory files in ../../datasets/amelia/traj_data_a10v5/raw_trajectories/kjfk\n"
     ]
    },
    {
     "name": "stderr",
     "output_type": "stream",
     "text": [
      "100%|██████████| 24/24 [00:13<00:00,  1.80it/s]\n"
     ]
    },
    {
     "name": "stdout",
     "output_type": "stream",
     "text": [
      "\tUpdating limits to reference file in: ../../datasets/amelia/assets/kjfk/limits.json\n",
      "Running: KLAX\n",
      "\tFound 24 trajectory files in ../../datasets/amelia/traj_data_a10v5/raw_trajectories/klax\n"
     ]
    },
    {
     "name": "stderr",
     "output_type": "stream",
     "text": [
      "100%|██████████| 24/24 [00:12<00:00,  1.85it/s]\n"
     ]
    },
    {
     "name": "stdout",
     "output_type": "stream",
     "text": [
      "\tUpdating limits to reference file in: ../../datasets/amelia/assets/klax/limits.json\n",
      "Running: KMDW\n",
      "\tFound 24 trajectory files in ../../datasets/amelia/traj_data_a10v5/raw_trajectories/kmdw\n"
     ]
    },
    {
     "name": "stderr",
     "output_type": "stream",
     "text": [
      "100%|██████████| 24/24 [00:09<00:00,  2.46it/s]\n"
     ]
    },
    {
     "name": "stdout",
     "output_type": "stream",
     "text": [
      "\tUpdating limits to reference file in: ../../datasets/amelia/assets/kmdw/limits.json\n",
      "Running: KMSY\n",
      "\tFound 24 trajectory files in ../../datasets/amelia/traj_data_a10v5/raw_trajectories/kmsy\n"
     ]
    },
    {
     "name": "stderr",
     "output_type": "stream",
     "text": [
      "100%|██████████| 24/24 [00:02<00:00,  8.99it/s]\n"
     ]
    },
    {
     "name": "stdout",
     "output_type": "stream",
     "text": [
      "\tUpdating limits to reference file in: ../../datasets/amelia/assets/kmsy/limits.json\n",
      "Running: KSEA\n",
      "\tFound 24 trajectory files in ../../datasets/amelia/traj_data_a10v5/raw_trajectories/ksea\n"
     ]
    },
    {
     "name": "stderr",
     "output_type": "stream",
     "text": [
      "100%|██████████| 24/24 [00:09<00:00,  2.61it/s]\n"
     ]
    },
    {
     "name": "stdout",
     "output_type": "stream",
     "text": [
      "\tUpdating limits to reference file in: ../../datasets/amelia/assets/ksea/limits.json\n",
      "Running: KSFO\n",
      "\tFound 24 trajectory files in ../../datasets/amelia/traj_data_a10v5/raw_trajectories/ksfo\n"
     ]
    },
    {
     "name": "stderr",
     "output_type": "stream",
     "text": [
      "100%|██████████| 24/24 [00:14<00:00,  1.61it/s]\n"
     ]
    },
    {
     "name": "stdout",
     "output_type": "stream",
     "text": [
      "\tUpdating limits to reference file in: ../../datasets/amelia/assets/ksfo/limits.json\n",
      "Running: PANC\n",
      "\tFound 24 trajectory files in ../../datasets/amelia/traj_data_a10v5/raw_trajectories/panc\n"
     ]
    },
    {
     "name": "stderr",
     "output_type": "stream",
     "text": [
      "100%|██████████| 24/24 [00:12<00:00,  1.93it/s]"
     ]
    },
    {
     "name": "stdout",
     "output_type": "stream",
     "text": [
      "\tUpdating limits to reference file in: ../../datasets/amelia/assets/panc/limits.json\n"
     ]
    },
    {
     "name": "stderr",
     "output_type": "stream",
     "text": [
      "\n"
     ]
    }
   ],
   "source": [
    "black_list = ['Frame', 'ID', 'Type', 'Interp']\n",
    "BASE_DIR = '../../datasets/amelia/'\n",
    "\n",
    "for airport in [\"kbos\", \"kdca\", \"kewr\", \"kjfk\", \"klax\", \"kmdw\", \"kmsy\", \"ksea\", \"ksfo\", \"panc\"]:\n",
    "    print(f\"Running: {airport.upper()}\")\n",
    "    TRAJ_DIR = os.path.join(BASE_DIR, 'traj_data_a10v5/raw_trajectories', f'{airport}')\n",
    "    ASSETS_DIR = os.path.join(BASE_DIR, 'assets', f'{airport}')\n",
    "\n",
    "    LIMITS_FILE = os.path.join(ASSETS_DIR, 'limits.json')\n",
    "    with open(LIMITS_FILE, 'r') as f:\n",
    "        ref_data = json.load(f)\n",
    "    \n",
    "    # print(f\"Reference Data:\\n{json.dumps(ref_data, indent=4)}\")\n",
    "\n",
    "    traj_files = [os.path.join(TRAJ_DIR, f) for f in os.listdir(TRAJ_DIR)]\n",
    "    print(f\"\\tFound {len(traj_files)} trajectory files in {TRAJ_DIR}\")\n",
    "\n",
    "    # Create limits dictionary\n",
    "    data = pd.read_csv(traj_files[0])\n",
    "    limits = {}\n",
    "    incstats = {}\n",
    "    for k, v in data.items():\n",
    "        if k in black_list: \n",
    "            continue\n",
    "        limits[k] = {\n",
    "            \"min\": float('inf'), \"max\": -float('inf'), \"mean\": 0.0, \"std\": 0.0\n",
    "        }\n",
    "        incstats[k] = RunningStats()\n",
    "\n",
    "    for f in tqdm(traj_files):\n",
    "        data = pd.read_csv(traj_files[0])\n",
    "        for k in limits.keys():\n",
    "            arr = data[k].to_numpy()\n",
    "            limits[k][\"min\"] = min(limits[k][\"min\"], arr.min())\n",
    "            limits[k][\"max\"] = max(limits[k][\"max\"], arr.max())\n",
    "\n",
    "            for a in arr: \n",
    "                incstats[k].push(a)\n",
    "\n",
    "        for k in limits.keys():\n",
    "            limits[k][\"mean\"] = incstats[k].mean()\n",
    "            limits[k][\"std\"] = incstats[k].std()\n",
    "\n",
    "    ref_data['limits'] = limits \n",
    "    with open(LIMITS_FILE, 'w') as f:\n",
    "        json.dump(ref_data, f, indent=2)\n",
    "    print(f\"\\tAdding limits to reference file in: {LIMITS_FILE}\")"
   ]
  }
 ],
 "metadata": {
  "kernelspec": {
   "display_name": "boeing-tf",
   "language": "python",
   "name": "python3"
  },
  "language_info": {
   "codemirror_mode": {
    "name": "ipython",
    "version": 3
   },
   "file_extension": ".py",
   "mimetype": "text/x-python",
   "name": "python",
   "nbconvert_exporter": "python",
   "pygments_lexer": "ipython3",
   "version": "3.9.16"
  }
 },
 "nbformat": 4,
 "nbformat_minor": 2
}
