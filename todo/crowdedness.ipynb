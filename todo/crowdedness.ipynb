{
 "cells": [
  {
   "cell_type": "code",
   "execution_count": 1,
   "metadata": {},
   "outputs": [],
   "source": [
    "import sys\n",
    "import seaborn as sns\n",
    "import pandas as pd\n",
    "import matplotlib.pyplot as plt\n",
    "import numpy as np\n",
    "import os \n",
    "import pickle\n",
    "\n",
    "from tqdm import tqdm\n",
    "\n",
    "BASE_DIR = 'crowdedness'\n",
    "OUT_DIR = f\"./out/{BASE_DIR}\"\n",
    "os.makedirs(OUT_DIR, exist_ok=True)\n",
    "\n",
    "sys.path.insert(1, '../utils/')\n",
    "from common import *"
   ]
  },
  {
   "cell_type": "code",
   "execution_count": 2,
   "metadata": {},
   "outputs": [
    {
     "data": {
      "text/plain": [
       "10"
      ]
     },
     "execution_count": 2,
     "metadata": {},
     "output_type": "execute_result"
    }
   ],
   "source": [
    "AIRPORTS = AIRPORT_COLORMAP\n",
    "num_airports = len(AIRPORTS.keys())\n",
    "num_airports"
   ]
  },
  {
   "cell_type": "code",
   "execution_count": 3,
   "metadata": {},
   "outputs": [
    {
     "name": "stdout",
     "output_type": "stream",
     "text": [
      "panc\n"
     ]
    },
    {
     "name": "stderr",
     "output_type": "stream",
     "text": [
      "100%|██████████| 24/24 [00:00<00:00, 79.80it/s]\n"
     ]
    },
    {
     "name": "stdout",
     "output_type": "stream",
     "text": [
      "kbos\n"
     ]
    },
    {
     "name": "stderr",
     "output_type": "stream",
     "text": [
      "100%|██████████| 24/24 [00:00<00:00, 81.48it/s]\n"
     ]
    },
    {
     "name": "stdout",
     "output_type": "stream",
     "text": [
      "kdca\n"
     ]
    },
    {
     "name": "stderr",
     "output_type": "stream",
     "text": [
      "100%|██████████| 24/24 [00:00<00:00, 84.23it/s]\n"
     ]
    },
    {
     "name": "stdout",
     "output_type": "stream",
     "text": [
      "kewr\n"
     ]
    },
    {
     "name": "stderr",
     "output_type": "stream",
     "text": [
      "100%|██████████| 24/24 [00:00<00:00, 85.18it/s]\n"
     ]
    },
    {
     "name": "stdout",
     "output_type": "stream",
     "text": [
      "kjfk\n"
     ]
    },
    {
     "name": "stderr",
     "output_type": "stream",
     "text": [
      "100%|██████████| 24/24 [00:00<00:00, 78.96it/s]\n"
     ]
    },
    {
     "name": "stdout",
     "output_type": "stream",
     "text": [
      "klax\n"
     ]
    },
    {
     "name": "stderr",
     "output_type": "stream",
     "text": [
      "100%|██████████| 24/24 [00:00<00:00, 79.38it/s]\n"
     ]
    },
    {
     "name": "stdout",
     "output_type": "stream",
     "text": [
      "kmdw\n"
     ]
    },
    {
     "name": "stderr",
     "output_type": "stream",
     "text": [
      "100%|██████████| 24/24 [00:00<00:00, 78.28it/s]\n"
     ]
    },
    {
     "name": "stdout",
     "output_type": "stream",
     "text": [
      "kmsy\n"
     ]
    },
    {
     "name": "stderr",
     "output_type": "stream",
     "text": [
      "100%|██████████| 24/24 [00:00<00:00, 75.46it/s]\n"
     ]
    },
    {
     "name": "stdout",
     "output_type": "stream",
     "text": [
      "ksea\n"
     ]
    },
    {
     "name": "stderr",
     "output_type": "stream",
     "text": [
      "100%|██████████| 24/24 [00:00<00:00, 75.24it/s]\n"
     ]
    },
    {
     "name": "stdout",
     "output_type": "stream",
     "text": [
      "ksfo\n"
     ]
    },
    {
     "name": "stderr",
     "output_type": "stream",
     "text": [
      "100%|██████████| 24/24 [00:00<00:00, 78.27it/s]\n"
     ]
    },
    {
     "name": "stdout",
     "output_type": "stream",
     "text": [
      "Saving in:  ../out/crowdedness_boxplots.png\n"
     ]
    }
   ],
   "source": [
    "fig, ax = plt.subplots(num_airports, 1, figsize=(8, 8*num_airports))\n",
    "fontcolor = 'dimgray'\n",
    "for na, airport in enumerate(AIRPORTS):\n",
    "    print(airport)\n",
    "\n",
    "    crowdedness_file = os.path.join(BASE_DIR, f'{airport}.pkl')\n",
    "    with open(crowdedness_file, 'rb') as f:\n",
    "        x = pickle.load(f)\n",
    "\n",
    "    hour = np.zeros(shape=(len(x.keys())))\n",
    "    min_agents = np.zeros(shape=(len(x.keys())))\n",
    "    mean_agents = np.zeros(shape=(len(x.keys())))\n",
    "    max_agents = np.zeros(shape=(len(x.keys())))\n",
    "    median_agents = np.zeros(shape=(len(x.keys())))\n",
    "\n",
    "    for i, (k, v) in enumerate(x.items()):\n",
    "        hour[i] = int(k)\n",
    "        v = np.asarray(v)\n",
    "        min_agents[i] = v.min()\n",
    "        mean_agents[i] = v.mean()\n",
    "        max_agents[i] = v.max()\n",
    "        median_agents[i] = np.median(v)\n",
    "\n",
    "    color = AIRPORTS[airport]\n",
    "    ax[na].plot(hour, min_agents, color=AIRPORTS[airport], alpha=0.1)\n",
    "    ax[na].plot(\n",
    "        hour, \n",
    "        max_agents, \n",
    "        color=AIRPORTS[airport], \n",
    "        alpha=0.3, \n",
    "        label=airport.upper(),\n",
    "        linewidth=3\n",
    "    )\n",
    "    ax[na].fill_between(\n",
    "        hour, \n",
    "        min_agents, \n",
    "        max_agents, \n",
    "        interpolate=False, \n",
    "        color=AIRPORTS[airport], \n",
    "        alpha=0.05\n",
    "    )\n",
    "    \n",
    "    data = {'time': [], 'num_agents': []}\n",
    "    for time, num_agents_arr in tqdm(x.items()):\n",
    "        for num_agents in num_agents_arr:\n",
    "            data['time'].append(int(time))\n",
    "            data['num_agents'].append(num_agents)\n",
    "    df = pd.DataFrame(data)\n",
    "\n",
    "    # sns.stripplot(\n",
    "    #     data, \n",
    "    #     x=\"time\", \n",
    "    #     y=\"num_agents\", \n",
    "    #     size=0.1, \n",
    "    #     color=color, \n",
    "    #     alpha=0.4, \n",
    "    #     ax=ax[na]\n",
    "    # )\n",
    "    sns.boxplot(\n",
    "        data=data, \n",
    "        x=\"time\", \n",
    "        y=\"num_agents\", \n",
    "        color=color, \n",
    "        medianprops={\"color\": color, \"linewidth\": 4},\n",
    "        showfliers=False, \n",
    "        boxprops=dict(alpha=0.6), \n",
    "        zorder=100, \n",
    "        ax=ax[na]\n",
    "    )\n",
    "    ax[na].set_xticks(np.arange(hour.min(), hour.max()+1, 4))\n",
    "    ax[na].legend(loc='upper right', labelcolor=fontcolor, fontsize=20)\n",
    "    ax[na].set(xlabel=None)\n",
    "ax[-1].set_xlabel('Time of Day', color=fontcolor, fontsize=20)\n",
    "\n",
    "for a in ax:\n",
    "    a.tick_params(color=fontcolor, labelcolor=fontcolor)\n",
    "    for spine in a.spines.values():\n",
    "        spine.set_edgecolor('gray')\n",
    "        a.set_ylabel('Number of Aircraft', color=fontcolor, fontsize=20)\n",
    "\n",
    "plt.savefig(f\"{OUT_DIR}/crowdedness_boxplots.png\", dpi=400, bbox_inches='tight')\n",
    "print(\"Saving in: \", f\"{OUT_DIR}/crowdedness_boxplots.png\",)\n",
    "plt.close()"
   ]
  },
  {
   "cell_type": "code",
   "execution_count": 4,
   "metadata": {},
   "outputs": [],
   "source": [
    "for ap1 in AIRPORTS.keys():\n",
    "    fig, ax = plt.subplots(figsize=(8, 8))\n",
    "    for airport in AIRPORTS.keys():\n",
    "\n",
    "        CROWDEDNESS_FILE = os.path.join(BASE_DIR, f'{airport}.pkl')\n",
    "        with open(CROWDEDNESS_FILE, 'rb') as f:\n",
    "            x = pickle.load(f)\n",
    "\n",
    "        time = np.zeros(shape=(len(x.keys())))\n",
    "        min_agents = np.zeros(shape=(len(x.keys())))\n",
    "        mean_agents = np.zeros(shape=(len(x.keys())))\n",
    "        max_agents = np.zeros(shape=(len(x.keys())))\n",
    "        median_agents = np.zeros(shape=(len(x.keys())))\n",
    "\n",
    "        for i, (k, v) in enumerate(x.items()):\n",
    "            time[i] = int(k)\n",
    "            v = np.asarray(v)\n",
    "            min_agents[i] = v.min()\n",
    "            mean_agents[i] = v.mean()\n",
    "            max_agents[i] = v.max()\n",
    "            median_agents[i] = np.median(v)\n",
    "\n",
    "        alpha = 1.0 if airport == ap1 else 0.25\n",
    "        order = 1000 if airport == ap1 else 1\n",
    "\n",
    "        ax.plot(time, min_agents, color=AIRPORTS[airport], alpha=alpha, zorder=order)\n",
    "        ax.plot(time, max_agents, color=AIRPORTS[airport], alpha=alpha, zorder=order)\n",
    "        if airport == ap1:\n",
    "            ax.plot(\n",
    "                time, mean_agents, color='white', linewidth=2, linestyle='--', alpha=alpha, \n",
    "                zorder=order+100)\n",
    "        ax.fill_between(\n",
    "            time, min_agents, max_agents, interpolate=False, color=AIRPORTS[airport], alpha=alpha)\n",
    "\n",
    "    plt.xticks(np.arange(time.min(), time.max()+1, 2))\n",
    "    plt.title(f\"Crowdedness {ap1.upper()}\")\n",
    "    plt.savefig(f\"{OUT_DIR}/{ap1}_areaplots.png\", dpi=600, bbox_inches='tight')\n",
    "    plt.close()"
   ]
  },
  {
   "cell_type": "code",
   "execution_count": null,
   "metadata": {},
   "outputs": [],
   "source": []
  }
 ],
 "metadata": {
  "kernelspec": {
   "display_name": "boeing-tf",
   "language": "python",
   "name": "python3"
  },
  "language_info": {
   "codemirror_mode": {
    "name": "ipython",
    "version": 3
   },
   "file_extension": ".py",
   "mimetype": "text/x-python",
   "name": "python",
   "nbconvert_exporter": "python",
   "pygments_lexer": "ipython3",
   "version": "3.10.10"
  }
 },
 "nbformat": 4,
 "nbformat_minor": 2
}
